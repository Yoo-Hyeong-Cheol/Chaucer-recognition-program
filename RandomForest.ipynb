import os
from glob import glob
from PIL import Image
import numpy as np
import tensorflow as tf
from sklearn.model_selection import train_test_split
from sklearn.ensemble import RandomForestClassifier
from sklearn.model_selection import cross_val_score
from sklearn import metrics 
import matplotlib
import matplotlib.pyplot as plt
from sklearn.model_selection import GridSearchCV

image_dir_path = os.path.dirname(os.path.abspath("__file__")) + '/Auto_encoder_image'
categories = os.listdir('./Auto_encoder_image')
select_cat = []
nb_classes = 0
mnist = tf.keras.datasets.mnist
image_w = 48
image_h = 48

x = []
y = []

count = 0;
for idx, c in enumerate(categories):
    dir = image_dir_path + '/' + c
    f = glob(dir+'/*.jpg')
    
    #if len(f) >= 200:
    nb_classes += 1
    select_cat.append(dir)

for index, cat in enumerate(select_cat):
    files = glob(select_cat[index]+'/*.jpg')
    for i, f in enumerate(files):
            img = Image.open(f)
            img = img.convert("L")
            img = img.resize((image_w, image_h))
            data = np.asarray(img)
            
            x.append(data)
            y.append(index)

x = np.array(x)
y = np.array(y)
print(x.shape)
print(y.shape)
nsamples, nx, ny = x.shape
x = x.reshape((nsamples,nx*ny))
print(x.shape)

x_train, x_test, y_train, y_test = train_test_split(x,y, test_size=0.2)
xy = (x_train, x_test, y_train, y_test)
print(x_train.shape, y_train.shape)
print(x_test.shape, y_test.shape)

shuffle_index = np.random.permutation(len(x_train))
x_train, y_train = x_train[shuffle_index], y_train[shuffle_index]

params = { 'n_estimators' : [100, 500, 1000, 2000],
           'max_depth' : [1, 2, 3, 4, 5, 6, 7, 8, 9, 10, 11, 12, 13, 14, 15, 16, 17, 18, 19, 20]
            }

# RandomForestClassifier 객체 생성 후 GridSearchCV 수행
rf_clf = RandomForestClassifier()
grid_cv = GridSearchCV(rf_clf, param_grid = params, cv = 3, n_jobs = -1)
grid_cv.fit(x_train, y_train)

print('최적 하이퍼 파라미터: ', grid_cv.best_params_)
print('최고 예측 정확도: {:.4f}'.format(grid_cv.best_score_))

# Cross_val_score Code
forest = RandomForestClassifier(n_estimators=1000)
forest.fit(x_train, y_train)
train = cross_val_score(forest, x_train, y_train, cv=10, scoring="accuracy")
print("교차 검증 평균 점수: {:.10f}".format(train.mean()))

# Test Code
y_pred = forest.predict(x_test)
print('정확도 :', metrics.accuracy_score(y_test, y_pred))

fig = plt.figure()
random_pick = np.random.randint(low = 0, high = 3546, size = 10)
print(y[random_pick])

for i in range(10) :
    idx = random_pick[i]
    img = np.reshape(x[idx], (28, 28))
    plot = fig.add_subplot(1, 10, i+1)
    plot.imshow(img, cmap = 'binary')
