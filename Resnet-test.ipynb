{
 "cells": [
  {
   "cell_type": "code",
   "execution_count": 1,
   "metadata": {},
   "outputs": [],
   "source": [
    "from keras.preprocessing.image import ImageDataGenerator"
   ]
  },
  {
   "cell_type": "code",
   "execution_count": 2,
   "metadata": {},
   "outputs": [
    {
     "name": "stdout",
     "output_type": "stream",
     "text": [
      "Found 2835 images belonging to 14 classes.\n",
      "Found 711 images belonging to 14 classes.\n"
     ]
    }
   ],
   "source": [
    "# Add our data-augmentation parameters to ImageDataGenerator\n",
    "\n",
    "train_dir = 'train'\n",
    "validation_dir = 'test'\n",
    "\n",
    "train_datagen = ImageDataGenerator(rescale = 1./255., rotation_range = 40, width_shift_range = 0.2, height_shift_range = 0.2, shear_range = 0.2, zoom_range = 0.2, horizontal_flip = False)\n",
    "\n",
    "test_datagen = ImageDataGenerator(rescale = 1.0/255.)\n",
    "\n",
    "train_generator = train_datagen.flow_from_directory(train_dir, batch_size = 32, class_mode = 'categorical', target_size = (224, 224))\n",
    "\n",
    "validation_generator = test_datagen.flow_from_directory( validation_dir, batch_size = 32, class_mode = 'categorical', target_size = (224, 224))"
   ]
  },
  {
   "cell_type": "code",
   "execution_count": 3,
   "metadata": {},
   "outputs": [],
   "source": [
    "from tensorflow.keras.applications import ResNet50\n",
    "\n",
    "base_model = ResNet50(input_shape=(224, 224,3), include_top=False, weights=\"imagenet\")\n"
   ]
  },
  {
   "cell_type": "code",
   "execution_count": 4,
   "metadata": {},
   "outputs": [],
   "source": [
    "for layer in base_model.layers:\n",
    "    layer.trainable = False"
   ]
  },
  {
   "cell_type": "code",
   "execution_count": 5,
   "metadata": {},
   "outputs": [],
   "source": [
    "from tensorflow.keras.applications import ResNet50\n",
    "from tensorflow.python.keras.models import Sequential\n",
    "from tensorflow.python.keras.layers import Dense, Flatten, GlobalAveragePooling2D\n",
    "\n",
    "base_model = Sequential()\n",
    "base_model.add(ResNet50(include_top=False, weights='imagenet', pooling='max'))\n",
    "base_model.add(Dense(1, activation='sigmoid'))"
   ]
  },
  {
   "cell_type": "code",
   "execution_count": 6,
   "metadata": {},
   "outputs": [],
   "source": [
    "import tensorflow as tf\n",
    "base_model.compile(optimizer = tf.keras.optimizers.SGD(lr=0.0001), loss = 'binary_crossentropy', metrics = ['acc'])\n"
   ]
  },
  {
   "cell_type": "code",
   "execution_count": 7,
   "metadata": {},
   "outputs": [
    {
     "name": "stdout",
     "output_type": "stream",
     "text": [
      "Epoch 1/20\n",
      "88/88 [==============================] - 1272s 14s/step - loss: 1.7174 - acc: 0.7729 - val_loss: 1.8064 - val_acc: 0.0919\n",
      "Epoch 2/20\n",
      "88/88 [==============================] - 1409s 16s/step - loss: 0.6266 - acc: 0.8797 - val_loss: 1.8854 - val_acc: 0.0787\n",
      "Epoch 3/20\n",
      "88/88 [==============================] - 1292s 15s/step - loss: 0.5944 - acc: 0.8829 - val_loss: 0.7087 - val_acc: 0.6597\n",
      "Epoch 4/20\n",
      "88/88 [==============================] - 1633s 18s/step - loss: 0.5641 - acc: 0.8876 - val_loss: 0.8869 - val_acc: 0.6308\n",
      "Epoch 5/20\n",
      "88/88 [==============================] - 1264s 14s/step - loss: 0.5377 - acc: 0.8861 - val_loss: 1.4544 - val_acc: 0.4705\n",
      "Epoch 6/20\n",
      "88/88 [==============================] - 1250s 14s/step - loss: 0.5401 - acc: 0.8850 - val_loss: 2.4953 - val_acc: 0.1763\n",
      "Epoch 7/20\n",
      "88/88 [==============================] - 1224s 14s/step - loss: 0.4981 - acc: 0.8895 - val_loss: 2.5838 - val_acc: 0.2366\n",
      "Epoch 8/20\n",
      "88/88 [==============================] - 1239s 14s/step - loss: 0.5072 - acc: 0.8867 - val_loss: 2.2201 - val_acc: 0.2993\n",
      "Epoch 9/20\n",
      "88/88 [==============================] - 1263s 14s/step - loss: 0.4847 - acc: 0.8878 - val_loss: 2.0579 - val_acc: 0.3861\n",
      "Epoch 10/20\n",
      "88/88 [==============================] - 1252s 14s/step - loss: 0.4783 - acc: 0.8964 - val_loss: 2.4724 - val_acc: 0.3427\n",
      "Epoch 11/20\n",
      "88/88 [==============================] - 1287s 15s/step - loss: 0.4807 - acc: 0.8867 - val_loss: 2.4440 - val_acc: 0.3764\n",
      "Epoch 12/20\n",
      "88/88 [==============================] - 1289s 15s/step - loss: 0.4666 - acc: 0.8933 - val_loss: 1.5611 - val_acc: 0.5139\n",
      "Epoch 13/20\n",
      "88/88 [==============================] - 1348s 15s/step - loss: 0.4819 - acc: 0.8877 - val_loss: 0.9259 - val_acc: 0.6838\n",
      "Epoch 14/20\n",
      "88/88 [==============================] - 1431s 16s/step - loss: 0.4613 - acc: 0.8931 - val_loss: 0.5606 - val_acc: 0.8731\n",
      "Epoch 15/20\n",
      "88/88 [==============================] - 1297s 15s/step - loss: 0.4614 - acc: 0.8961 - val_loss: 0.6220 - val_acc: 0.8201\n",
      "Epoch 16/20\n",
      "88/88 [==============================] - 1272s 14s/step - loss: 0.4345 - acc: 0.8986 - val_loss: 0.5297 - val_acc: 0.9033\n",
      "Epoch 17/20\n",
      "88/88 [==============================] - 1297s 15s/step - loss: 0.4357 - acc: 0.8966 - val_loss: 0.5798 - val_acc: 0.8020\n",
      "Epoch 18/20\n",
      "88/88 [==============================] - 1212s 14s/step - loss: 0.4344 - acc: 0.8935 - val_loss: 0.4721 - val_acc: 0.8671\n",
      "Epoch 19/20\n",
      "88/88 [==============================] - 1245s 14s/step - loss: 0.4259 - acc: 0.8972 - val_loss: 0.6893 - val_acc: 0.7489\n",
      "Epoch 20/20\n",
      "88/88 [==============================] - 1493s 17s/step - loss: 0.4163 - acc: 0.9010 - val_loss: 0.5140 - val_acc: 0.8490\n"
     ]
    }
   ],
   "source": [
    "resnet_history = base_model.fit(train_generator, validation_data = validation_generator, steps_per_epoch = 88, epochs = 20)"
   ]
  },
  {
   "cell_type": "code",
   "execution_count": null,
   "metadata": {},
   "outputs": [],
   "source": []
  }
 ],
 "metadata": {
  "kernelspec": {
   "display_name": "Python 3",
   "language": "python",
   "name": "python3"
  },
  "language_info": {
   "codemirror_mode": {
    "name": "ipython",
    "version": 3
   },
   "file_extension": ".py",
   "mimetype": "text/x-python",
   "name": "python",
   "nbconvert_exporter": "python",
   "pygments_lexer": "ipython3",
   "version": "3.8.5"
  }
 },
 "nbformat": 4,
 "nbformat_minor": 4
}
