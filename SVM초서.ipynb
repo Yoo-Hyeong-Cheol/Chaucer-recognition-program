{
 "cells": [
  {
   "cell_type": "code",
   "execution_count": 1,
   "metadata": {},
   "outputs": [],
   "source": [
    "#%config IPCompleter.greedy=True"
   ]
  },
  {
   "cell_type": "code",
   "execution_count": 28,
   "metadata": {},
   "outputs": [],
   "source": [
    "from PIL import Image\n",
    "import os\n",
    "from glob import glob\n",
    "from sklearn.model_selection import train_test_split, GridSearchCV\n",
    "from matplotlib import pyplot as plt\n",
    "# import tensorflow as tf\n",
    "import numpy as np\n",
    "# import keras as krcon\n",
    "from sklearn.preprocessing import StandardScaler\n",
    "from sklearn.svm import LinearSVC"
   ]
  },
  {
   "cell_type": "code",
   "execution_count": 29,
   "metadata": {},
   "outputs": [],
   "source": [
    "from __future__ import print_function, division\n",
    "from builtins import range, input\n",
    "\n",
    "\n",
    "from keras.layers import Input, Lambda, Dense, Flatten\n",
    "from keras.models import Model\n",
    "from keras.applications.vgg16 import VGG16\n",
    "from keras.applications.vgg16 import preprocess_input\n",
    "from keras.preprocessing import image\n",
    "from keras.preprocessing.image import ImageDataGenerator\n",
    "\n",
    "from sklearn.metrics import confusion_matrix\n",
    "import numpy as np\n",
    "import matplotlib.pyplot as plt\n",
    "\n",
    "from glob import glob\n",
    "import os"
   ]
  },
  {
   "cell_type": "code",
   "execution_count": 30,
   "metadata": {},
   "outputs": [],
   "source": [
    "IMAGE_SIZE = [48, 48] "
   ]
  },
  {
   "cell_type": "code",
   "execution_count": 31,
   "metadata": {},
   "outputs": [],
   "source": [
    "epochs = 100\n",
    "batch_size = 32"
   ]
  },
  {
   "cell_type": "code",
   "execution_count": 32,
   "metadata": {},
   "outputs": [],
   "source": [
    "\n",
    "image_dir_path = os.path.dirname(os.path.abspath(\"__file__\")) + '/Data(224)'\n",
    "categories = os.listdir('./Data(224)')\n",
    "select_cat = []\n",
    "nb_classes = 0\n",
    "\n",
    "\n",
    "X = []\n",
    "y = []\n",
    "#이미지 몇개 이상 분포만 불러오는 부분\n",
    "count = 0;\n",
    "for idx, c in enumerate(categories):\n",
    "    dir = image_dir_path + '/' + c\n",
    "    f = glob(dir+'/*.jpg')\n",
    "    if len(f) >= 200:\n",
    "        nb_classes += 1\n",
    "        select_cat.append(dir)\n",
    "\n",
    "# for images in files:\n",
    "#     io.imshow(images)\n",
    "#     #io.show()\n",
    "\n",
    "# img_data=[]\n",
    "# img = io.imread(files[1:3])\n",
    "# img\n",
    "\n",
    "# data = img.reshape(-1,224*224*3)/255\n",
    "# img = io.imread(images[:1])\n",
    "# data = img.reshape(-1,224*224*3)/255\n"
   ]
  },
  {
   "cell_type": "code",
   "execution_count": 33,
   "metadata": {},
   "outputs": [],
   "source": [
    "vgg = VGG16(input_shape=IMAGE_SIZE + [3], weights='imagenet', include_top=False)"
   ]
  },
  {
   "cell_type": "code",
   "execution_count": 34,
   "metadata": {},
   "outputs": [],
   "source": [
    "# don't train existing weights\n",
    "for layer in vgg.layers:\n",
    "  layer.trainable = False"
   ]
  },
  {
   "cell_type": "code",
   "execution_count": 35,
   "metadata": {},
   "outputs": [],
   "source": [
    "# our layers - you can add more if you want\n",
    "x = Flatten()(vgg.output)\n",
    "x = Dense(units=32,activation=\"relu\")(x)\n",
    "x = Dense(units=32,activation=\"relu\")(x)"
   ]
  },
  {
   "cell_type": "code",
   "execution_count": 38,
   "metadata": {},
   "outputs": [],
   "source": [
    "prediction = Dense(len(select_cat), activation='softmax')(x)"
   ]
  },
  {
   "cell_type": "code",
   "execution_count": null,
   "metadata": {},
   "outputs": [],
   "source": []
  },
  {
   "cell_type": "code",
   "execution_count": 39,
   "metadata": {},
   "outputs": [],
   "source": [
    "model = Model(inputs=vgg.input, outputs=prediction)"
   ]
  },
  {
   "cell_type": "code",
   "execution_count": 40,
   "metadata": {},
   "outputs": [],
   "source": [
    "model.compile(\n",
    "  loss='categorical_crossentropy',\n",
    "  optimizer='Adam',\n",
    "  metrics=['accuracy']\n",
    ")"
   ]
  },
  {
   "cell_type": "code",
   "execution_count": 43,
   "metadata": {},
   "outputs": [],
   "source": [
    "gen = ImageDataGenerator(\n",
    "  \n",
    "  width_shift_range=0.1,\n",
    "  height_shift_range=-0.1,\n",
    "  zoom_range=0.2,\n",
    "  horizontal_flip=False,\n",
    "  vertical_flip=False,\n",
    "  preprocessing_function=preprocess_input\n",
    ")"
   ]
  },
  {
   "cell_type": "code",
   "execution_count": 44,
   "metadata": {},
   "outputs": [],
   "source": [
    "# test_gen = gen.flow_from_directory(, target_size=IMAGE_SIZE)\n",
    "# print(test_gen.class_indices)\n",
    "# labels = [None] * len(test_gen.class_indices)\n",
    "# for k, v in test_gen.class_indices.items():\n",
    "#   labels[v] = k"
   ]
  },
  {
   "cell_type": "code",
   "execution_count": 45,
   "metadata": {},
   "outputs": [],
   "source": [
    "# model.summary()"
   ]
  },
  {
   "cell_type": "code",
   "execution_count": 46,
   "metadata": {},
   "outputs": [],
   "source": [
    "# for x, y in test_gen:\n",
    "#     print(\"min:\", x[0].min(), \"max:\", x[0].max())\n",
    "#     plt.title(labels[np.argmax(y[0])])\n",
    "#     plt.imshow(x[0])\n",
    "#     plt.show()\n",
    "#     break"
   ]
  },
  {
   "cell_type": "code",
   "execution_count": 48,
   "metadata": {},
   "outputs": [],
   "source": [
    "# 이미지 데이터 불러오고 라벨링\n",
    "\n",
    "for index, cat in enumerate(select_cat):\n",
    "    files = glob(select_cat[index]+'/*.jpg')\n",
    "    for i, f in enumerate(files):\n",
    "            img = Image.open(f)\n",
    "            img = img.convert(\"L\")\n",
    "            img = IMAGE_SIZE\n",
    "            data = np.asarray(img)\n",
    "            \n",
    "            X.append(data)\n",
    "            y.append(index)\n"
   ]
  },
  {
   "cell_type": "code",
   "execution_count": 50,
   "metadata": {},
   "outputs": [],
   "source": [
    "# X = np.array(X)\n",
    "# y = np.array(y)\n",
    "\n",
    "# # X = X.reshape(-1,224*224*3)/255\n",
    "# # print(X.shape)\n",
    "\n",
    "# nsamples, nx, ny = X.shape\n",
    "# X = X.reshape((nsamples,nx*ny))\n",
    "\n",
    "# # print(X.shape)\n",
    "# # print(X.shape)\n",
    "# # print(y.shape)\n"
   ]
  },
  {
   "cell_type": "code",
   "execution_count": 69,
   "metadata": {},
   "outputs": [
    {
     "name": "stdout",
     "output_type": "stream",
     "text": [
      "(2127, 2) (2127,)\n",
      "(709, 2) (709,)\n",
      "(710, 2) (710,)\n"
     ]
    }
   ],
   "source": [
    "# 데이터 스플릿\n",
    "\n",
    "\n",
    "#test 20% split\n",
    "X_train, X_test, y_train, Y_test = train_test_split(X, y, test_size = 0.4, stratify = y)\n",
    "x_test, x_val, y_test, y_val = train_test_split(X_test, Y_test, test_size = 0.5, stratify = Y_test)\n",
    "\n",
    "# X_train, X_test, y_trian, y_test = trian_test_split(X,y,test_size=0.2)\n",
    "# x_test, x_val, y_test, y_val = train_test_split(X_train, y_train, test_size = 0.25)\n",
    "sc = StandardScaler()\n",
    "sc.fit(X)\n",
    "X_train_std = sc.transform(X_train)\n",
    "x_test_std = sc.transform(x_test)\n",
    "x_val_std = sc.transform(x_val)\n",
    "\n",
    "print(X_train_std.shape, y_train.shape)\n",
    "print(x_test_std.shape, y_test.shape)\n",
    "print(x_val_std.shape, y_val.shape)\n"
   ]
  },
  {
   "cell_type": "code",
   "execution_count": null,
   "metadata": {},
   "outputs": [],
   "source": []
  },
  {
   "cell_type": "code",
   "execution_count": 70,
   "metadata": {},
   "outputs": [],
   "source": [
    "#이미지 데이터 불러오고 라벨링\n",
    "# /*\n",
    "# for index, cat in enumerate(select_cat):\n",
    "#     files = glob(select_cat[index]+'/*.jpg')\n",
    "#     for i, f in enumerate(files):\n",
    "#             img = Image.open(f)\n",
    "#             img = img.convert(\"L\")\n",
    "#             #img = img.resize((image_w, image_h))\n",
    "#             data = np.asarray(img)\n",
    "            \n",
    "#             X.append(data)\n",
    "#             y.append(index)\n",
    "# */"
   ]
  },
  {
   "cell_type": "code",
   "execution_count": 71,
   "metadata": {},
   "outputs": [],
   "source": [
    "# */\n",
    "# X = np.array(X)\n",
    "# y = np.array(y)\n",
    "\n",
    "# # X = X.reshape(-1,224*224*3)/255\n",
    "# # print(X.shape)\n",
    "\n",
    "# nsamples, nx, ny = X.shape\n",
    "# X = X.reshape((nsamples,nx*ny))\n",
    "# # print(X.shape)\n",
    "# # print(X.shape)\n",
    "# # print(y.shape)\n",
    "# /*"
   ]
  },
  {
   "cell_type": "code",
   "execution_count": 72,
   "metadata": {
    "scrolled": true
   },
   "outputs": [],
   "source": [
    "#데이터 스플릿\n",
    "\n",
    "# */\n",
    "# #test 20% split\n",
    "# X_train, X_test, y_train, Y_test = train_test_split(X, y, test_size = 0.4, stratify = y)\n",
    "# x_test, x_val, y_test, y_val = train_test_split(X_test, Y_test, test_size = 0.5, stratify = Y_test)\n",
    "\n",
    "# # X_train, X_test, y_trian, y_test = trian_test_split(X,y,test_size=0.2)\n",
    "# # x_test, x_val, y_test, y_val = train_test_split(X_train, y_train, test_size = 0.25)\n",
    "# sc = StandardScaler()\n",
    "# sc.fit(X)\n",
    "# X_train_std = sc.transform(X_train)\n",
    "# x_test_std = sc.transform(x_test)\n",
    "# x_val_std = sc.transform(x_val)\n",
    "\n",
    "# print(X_train_std.shape, y_train.shape)\n",
    "# print(x_test_std.shape, y_test.shape)\n",
    "# print(x_val_std.shape, y_val.shape)\n",
    "# /*"
   ]
  },
  {
   "cell_type": "code",
   "execution_count": 73,
   "metadata": {
    "scrolled": true
   },
   "outputs": [],
   "source": [
    "# #svm모델 생성\n",
    "# from sklearn.svm import SVC\n",
    "# svm_model = SVC(kernel='rbf', C = 20.0, gamma = 'auto')\n",
    "# svm_model.fit(X_train_std, y_train)\n",
    "# y_pred = svm_model.predict(x_val_std)"
   ]
  },
  {
   "cell_type": "code",
   "execution_count": 74,
   "metadata": {
    "scrolled": true
   },
   "outputs": [],
   "source": [
    "# print(\"prediction accuracy: {:.2f}%\".format(np.mean(y_pred == y_val)))"
   ]
  },
  {
   "cell_type": "code",
   "execution_count": 75,
   "metadata": {},
   "outputs": [],
   "source": [
    "from sklearn.svm import SVC\n",
    "# scores = []\n",
    "# for thisC in [*range(1,5)]:\n",
    "#     svc= SVC(kernel = 'linear', C=float(thisC))\n",
    "#     model=svc.fit(X_train_std, y_train)\n",
    "#     scoreTrain=model.score(X_train_std, y_train)\n",
    "#     scoreTest=model.score(x_val_std, y_val)\n",
    "#     print(\"선형 SVM : C : {}, training score:{:2f}, validation score:{:2f}\".format\n",
    "#          (thisC, scoreTrain, scoreTest))\n",
    "#     scores.append([scoreTrain, scoreTest])"
   ]
  },
  {
   "cell_type": "code",
   "execution_count": 76,
   "metadata": {},
   "outputs": [],
   "source": [
    "# import pandas as pd\n",
    "# pd.DataFrame(scores).plot()\n",
    "# # <matplotlib.axes._subplots.AxesSubplot at 0x1cc9339dac8>"
   ]
  },
  {
   "cell_type": "code",
   "execution_count": 77,
   "metadata": {},
   "outputs": [
    {
     "name": "stdout",
     "output_type": "stream",
     "text": [
      "CV 점수: [0.1056338  0.10798122 0.10588235 0.10588235 0.10588235]\n",
      "CV 평균점수 : 0.10625241645954156\n",
      "StratifiedKFold CV 평균점수 :  0.10625241645954156\n"
     ]
    }
   ],
   "source": [
    "\n",
    "from sklearn.model_selection import cross_val_score, StratifiedKFold\n",
    "\n",
    "model=SVC(kernel='linear', C=20).fit(X_train_std,y_train)\n",
    "scores=cross_val_score(model, X_train_std, y_train, cv=5)\n",
    "print(\"CV 점수: \" +str(scores))\n",
    "st_scores=cross_val_score(model, X_train_std, y_train,cv=StratifiedKFold(5,random_state=10, shuffle = True))\n",
    "print(\"CV 평균점수 : \" +str(scores.mean()))\n",
    "print(\"StratifiedKFold CV 평균점수 :  \" +str(st_scores.mean()))\n"
   ]
  },
  {
   "cell_type": "code",
   "execution_count": 78,
   "metadata": {},
   "outputs": [],
   "source": [
    "# from sklearn.svm import LinearSVC\n",
    "\n",
    "# for thisC in [1,10,50,80,100]:  #[1,3,5,10,40,60,80,100]\n",
    "#     model2 = LinearSVC(C=thisC).fit(X_train_std, y_train)\n",
    "#     scoretrain = model2.score(X_train_std, y_train)\n",
    "#     scoreval = model2.score(x_val_std, y_val)\n",
    "#     print(\"선형 SVM : training score:{:2f}, validation score:{:2f} \\n\".format\n",
    "#          (thisC, scoretrain, scoreval))"
   ]
  },
  {
   "cell_type": "code",
   "execution_count": 79,
   "metadata": {},
   "outputs": [
    {
     "name": "stdout",
     "output_type": "stream",
     "text": [
      "RBF SVM : C : 1, training score:0.100000. validation score:0.106253 \n",
      "\n",
      "RBF SVM : C : 20, training score:0.100000. validation score:0.106253 \n",
      "\n",
      "RBF SVM : C : 70, training score:0.100000. validation score:0.106253 \n",
      "\n",
      "RBF SVM : C : 100, training score:0.100000. validation score:0.106253 \n",
      "\n",
      "RBF SVM : C : 1, training score:0.250000. validation score:0.106253 \n",
      "\n",
      "RBF SVM : C : 20, training score:0.250000. validation score:0.106253 \n",
      "\n",
      "RBF SVM : C : 70, training score:0.250000. validation score:0.106253 \n",
      "\n",
      "RBF SVM : C : 100, training score:0.250000. validation score:0.106253 \n",
      "\n",
      "RBF SVM : C : 1, training score:0.500000. validation score:0.106253 \n",
      "\n",
      "RBF SVM : C : 20, training score:0.500000. validation score:0.106253 \n",
      "\n",
      "RBF SVM : C : 70, training score:0.500000. validation score:0.106253 \n",
      "\n",
      "RBF SVM : C : 100, training score:0.500000. validation score:0.106253 \n",
      "\n",
      "RBF SVM : C : 1, training score:1.000000. validation score:0.106253 \n",
      "\n",
      "RBF SVM : C : 20, training score:1.000000. validation score:0.106253 \n",
      "\n",
      "RBF SVM : C : 70, training score:1.000000. validation score:0.106253 \n",
      "\n",
      "RBF SVM : C : 100, training score:1.000000. validation score:0.106253 \n",
      "\n"
     ]
    }
   ],
   "source": [
    "for thisGamma in [.1, .25, .5, 1]:\n",
    "    for thisC in [1,20,70,100]: #[1,5,10,20,40,70,100] \n",
    "        model3=SVC(kernel=\"rbf\", C=thisC,\n",
    "                  gamma=thisGamma).fit(X_train_std, y_train)\n",
    "        m3train=model3.score(X_train_std, y_train)\n",
    "        m3val = model3.score(x_val_std, y_val)\n",
    "        print(\"RBF SVM : C : {}, training score:{:2f}. validation score:{:2f} \\n\".format\n",
    "             (thisC, thisGamma, m3train, m3val))"
   ]
  },
  {
   "cell_type": "code",
   "execution_count": 80,
   "metadata": {},
   "outputs": [],
   "source": [
    "# from sklearn.model_selection import GridSearchCV\n",
    "\n",
    "# param={'C':[1,5,10,20,40,70,100], 'gamma':[.1,.25,.5,1]}\n",
    "# GS=GridSearchCV(SVC(Kernel='rbf'),param,cv=5)\n",
    "# GS.fit(X_train_std, y_train)\n",
    "# print(GS.best_params_)\n",
    "# print(GS.best_score_)"
   ]
  },
  {
   "cell_type": "code",
   "execution_count": 81,
   "metadata": {},
   "outputs": [],
   "source": [
    "# model = SVC(kernel='rbf', C= , gamma= ).fit(x_test_std, y_test)\n"
   ]
  },
  {
   "cell_type": "code",
   "execution_count": 86,
   "metadata": {},
   "outputs": [
    {
     "ename": "TypeError",
     "evalue": "predict() missing 1 required positional argument: 'X'",
     "output_type": "error",
     "traceback": [
      "\u001b[0;31m---------------------------------------------------------------------------\u001b[0m",
      "\u001b[0;31mTypeError\u001b[0m                                 Traceback (most recent call last)",
      "\u001b[0;32m<ipython-input-86-104921af3d9e>\u001b[0m in \u001b[0;36m<module>\u001b[0;34m\u001b[0m\n\u001b[1;32m      3\u001b[0m \u001b[0;34m\u001b[0m\u001b[0m\n\u001b[1;32m      4\u001b[0m \u001b[0;34m\u001b[0m\u001b[0m\n\u001b[0;32m----> 5\u001b[0;31m \u001b[0my_pred_train\u001b[0m \u001b[0;34m=\u001b[0m \u001b[0mSVC\u001b[0m\u001b[0;34m.\u001b[0m\u001b[0mpredict\u001b[0m\u001b[0;34m(\u001b[0m\u001b[0mX_train_std\u001b[0m\u001b[0;34m)\u001b[0m\u001b[0;34m\u001b[0m\u001b[0;34m\u001b[0m\u001b[0m\n\u001b[0m\u001b[1;32m      6\u001b[0m \u001b[0my_pred_validation\u001b[0m \u001b[0;34m=\u001b[0m \u001b[0mSVC\u001b[0m\u001b[0;34m.\u001b[0m\u001b[0mpredict\u001b[0m\u001b[0;34m(\u001b[0m\u001b[0mx_val_std\u001b[0m\u001b[0;34m)\u001b[0m\u001b[0;34m\u001b[0m\u001b[0;34m\u001b[0m\u001b[0m\n\u001b[1;32m      7\u001b[0m \u001b[0;31m# y_pred_train = SVC.predict(X_train_std)\u001b[0m\u001b[0;34m\u001b[0m\u001b[0;34m\u001b[0m\u001b[0;34m\u001b[0m\u001b[0m\n",
      "\u001b[0;31mTypeError\u001b[0m: predict() missing 1 required positional argument: 'X'"
     ]
    }
   ],
   "source": [
    "from sklearn.metrics import classification_report, accuracy_score\n",
    "from sklearn.svm import SVC\n",
    "\n",
    "\n",
    "y_pred_train = SVC.predict(X_train_std)\n",
    "y_pred_validation = SVC.predict(x_val_std)\n",
    "# y_pred_train = SVC.predict(X_train_std)\n",
    "# y_pred_test = SCV.predict(x_test_std)\n"
   ]
  },
  {
   "cell_type": "code",
   "execution_count": 84,
   "metadata": {},
   "outputs": [
    {
     "ename": "NameError",
     "evalue": "name 'y_pred_train' is not defined",
     "output_type": "error",
     "traceback": [
      "\u001b[0;31m---------------------------------------------------------------------------\u001b[0m",
      "\u001b[0;31mNameError\u001b[0m                                 Traceback (most recent call last)",
      "\u001b[0;32m<ipython-input-84-4ad97051702b>\u001b[0m in \u001b[0;36m<module>\u001b[0;34m\u001b[0m\n\u001b[0;32m----> 1\u001b[0;31m \u001b[0mprint\u001b[0m\u001b[0;34m(\u001b[0m\u001b[0mclassification_report\u001b[0m\u001b[0;34m(\u001b[0m\u001b[0my_train\u001b[0m\u001b[0;34m,\u001b[0m \u001b[0my_pred_train\u001b[0m\u001b[0;34m)\u001b[0m\u001b[0;34m)\u001b[0m\u001b[0;34m\u001b[0m\u001b[0;34m\u001b[0m\u001b[0m\n\u001b[0m",
      "\u001b[0;31mNameError\u001b[0m: name 'y_pred_train' is not defined"
     ]
    }
   ],
   "source": [
    "print(classification_report(y_train, y_pred_train))"
   ]
  },
  {
   "cell_type": "code",
   "execution_count": 85,
   "metadata": {},
   "outputs": [
    {
     "ename": "NameError",
     "evalue": "name 'y_pred_test' is not defined",
     "output_type": "error",
     "traceback": [
      "\u001b[0;31m---------------------------------------------------------------------------\u001b[0m",
      "\u001b[0;31mNameError\u001b[0m                                 Traceback (most recent call last)",
      "\u001b[0;32m<ipython-input-85-1f029a0a811f>\u001b[0m in \u001b[0;36m<module>\u001b[0;34m\u001b[0m\n\u001b[0;32m----> 1\u001b[0;31m \u001b[0mprint\u001b[0m\u001b[0;34m(\u001b[0m\u001b[0mclassification_report\u001b[0m\u001b[0;34m(\u001b[0m\u001b[0my_test\u001b[0m\u001b[0;34m,\u001b[0m \u001b[0my_pred_test\u001b[0m\u001b[0;34m)\u001b[0m\u001b[0;34m)\u001b[0m\u001b[0;34m\u001b[0m\u001b[0;34m\u001b[0m\u001b[0m\n\u001b[0m",
      "\u001b[0;31mNameError\u001b[0m: name 'y_pred_test' is not defined"
     ]
    }
   ],
   "source": [
    "print(classification_report(y_test, y_pred_test))"
   ]
  },
  {
   "cell_type": "code",
   "execution_count": null,
   "metadata": {},
   "outputs": [],
   "source": []
  },
  {
   "cell_type": "code",
   "execution_count": null,
   "metadata": {},
   "outputs": [],
   "source": []
  },
  {
   "cell_type": "code",
   "execution_count": null,
   "metadata": {},
   "outputs": [],
   "source": []
  },
  {
   "cell_type": "code",
   "execution_count": null,
   "metadata": {},
   "outputs": [],
   "source": []
  }
 ],
 "metadata": {
  "kernelspec": {
   "display_name": "Python 3",
   "language": "python",
   "name": "python3"
  },
  "language_info": {
   "codemirror_mode": {
    "name": "ipython",
    "version": 3
   },
   "file_extension": ".py",
   "mimetype": "text/x-python",
   "name": "python",
   "nbconvert_exporter": "python",
   "pygments_lexer": "ipython3",
   "version": "3.8.5"
  }
 },
 "nbformat": 4,
 "nbformat_minor": 4
}
