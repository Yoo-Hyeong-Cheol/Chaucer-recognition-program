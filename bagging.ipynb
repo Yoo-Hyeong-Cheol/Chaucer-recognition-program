{
 "cells": [
  {
   "cell_type": "code",
   "execution_count": null,
   "id": "d80ab183",
   "metadata": {},
   "outputs": [],
   "source": [
    "from PIL import Image\n",
    "import os\n",
    "from glob import glob\n",
    "from sklearn.model_selection import train_test_split, GridSearchCV\n",
    "from matplotlib import pyplot as plt\n",
    "# import tensorflow as tf\n",
    "import numpy as np\n",
    "# import keras as kr\n",
    "from sklearn.ensemble import BaggingClassifier"
   ]
  },
  {
   "cell_type": "code",
   "execution_count": null,
   "id": "7047b003",
   "metadata": {},
   "outputs": [],
   "source": [
    "image_dir_path = os.path.dirname(os.path.abspath(\"__file__\")) + '/Data(224)'\n",
    "categories = os.listdir('./Data(224)')\n",
    "select_cat = []\n",
    "nb_classes = 0\n",
    "\n",
    "\n",
    "X = []\n",
    "y = []\n",
    "\n",
    "count = 0;\n",
    "for idx, c in enumerate(categories):\n",
    "    dir = image_dir_path + '/' + c\n",
    "    f = glob(dir+'/*.jpg')\n",
    "    if len(f) >= 200:\n",
    "        nb_classes += 1\n",
    "        select_cat.append(dir)"
   ]
  },
  {
   "cell_type": "code",
   "execution_count": null,
   "id": "c0bcc0a6",
   "metadata": {},
   "outputs": [],
   "source": [
    "for index, cat in enumerate(select_cat):\n",
    "    files = glob(select_cat[index]+'/*.jpg')\n",
    "    for i, f in enumerate(files):\n",
    "            img = Image.open(f)\n",
    "            img = img.convert(\"L\")\n",
    "            #img = img.resize((image_w, image_h))\n",
    "            data = np.asarray(img)\n",
    "            \n",
    "            X.append(data)\n",
    "            y.append(index)"
   ]
  },
  {
   "cell_type": "code",
   "execution_count": null,
   "id": "d131a5a8",
   "metadata": {},
   "outputs": [],
   "source": [
    "X = np.array(X)\n",
    "y = np.array(y)\n",
    "\n",
    "nsamples, nx, ny = X.shape\n",
    "X = X.reshape((nsamples,nx*ny))"
   ]
  },
  {
   "cell_type": "code",
   "execution_count": null,
   "id": "ef1e4fba",
   "metadata": {},
   "outputs": [],
   "source": [
    "X_train, X_test, y_train, Y_test = train_test_split(X, y, test_size = 0.4)\n",
    "x_test, x_val, y_test, y_val = train_test_split(X_test, Y_test, test_size = 0.5)"
   ]
  },
  {
   "cell_type": "code",
   "execution_count": null,
   "id": "4eca2913",
   "metadata": {},
   "outputs": [],
   "source": [
    "# QuantitleTransformer\n",
    "from sklearn.preprocessing import QuantileTransformer\n",
    "\n",
    "scaler = QuantileTransformer()\n",
    "scaler.fit(X_train)\n",
    "X_train_sc = scaler.transform(X_train)\n",
    "x_test_sc = scaler.transform(x_test)\n",
    "x_val_sc = scaler.transform(x_val)\n",
    "\n",
    "print(X_train_sc.shape, y_train.shape)\n",
    "print(x_val_sc.shape, y_val.shape)\n",
    "print(x_test_sc.shape, y_test.shape)"
   ]
  },
  {
   "cell_type": "code",
   "execution_count": null,
   "id": "5336777c",
   "metadata": {},
   "outputs": [],
   "source": [
    "def fitting(X,y,C,gamma):\n",
    "    \n",
    "#     model = SVC(kernel='rbf', probability=True, C=C, gamma=gamma)\n",
    "#     clf = model.fit(X_train_sc, y_train)\n",
    "    estimator = SVC(kernel = 'rbf', probability=True, C=C, gamma = gamma)\n",
    "    n_estimator = 10\n",
    "    n_jobs = 1\n",
    "    model = BaggingClassifier(base_estimator = estimator,\n",
    "                             n_estimators = n_estimator,\n",
    "                             max_samples = 1./n_estimators,\n",
    "                             n_jobs = n_jobs)\n",
    "    clf = model.fit(X_train_sc,y_train)\n",
    "    \n",
    "    pred_labels_tr = model.predict(X_train_sc)\n",
    "    pred_labels_val = model.predict(x_val_sc)\n",
    "    \n",
    "    print('----- Evaluation on Validation Data -----')\n",
    "    score_val = model.score(x_val_sc, y_val)\n",
    "    print('Accuracy Score: ', score_val)\n",
    "    \n",
    "    print(classification_report(y_val, pred_labels_val))\n",
    "    print('--------------------------------------------------------')\n",
    "    \n",
    "    print('----- Evaluation on Training Data -----')\n",
    "    score_tr = model.score(X_train_sc, y_train)\n",
    "    print('Accuracy Score: ', score_tr)\n",
    "    \n",
    "    print(classification_report(y_train, pred_labels_tr))\n",
    "    print('--------------------------------------------------------')\n",
    "    \n",
    "    return X_train_sc, x_val_sc, y_train, y_val, clf"
   ]
  },
  {
   "cell_type": "code",
   "execution_count": null,
   "id": "edf998eb",
   "metadata": {},
   "outputs": [],
   "source": [
    "import pandas as pd\n",
    "from sklearn.metrics import classification_report\n",
    "import plotly.express as px\n",
    "import plotly.graph_objects as go\n",
    "from sklearn.svm import SVC\n",
    "\n",
    "\n",
    "\n",
    "X_train_sc, x_val_sc, y_train, y_val, clf = fitting(X,y,1,'scale')"
   ]
  }
 ],
 "metadata": {
  "kernelspec": {
   "display_name": "Python 3",
   "language": "python",
   "name": "python3"
  },
  "language_info": {
   "codemirror_mode": {
    "name": "ipython",
    "version": 3
   },
   "file_extension": ".py",
   "mimetype": "text/x-python",
   "name": "python",
   "nbconvert_exporter": "python",
   "pygments_lexer": "ipython3",
   "version": "3.8.8"
  }
 },
 "nbformat": 4,
 "nbformat_minor": 5
}
