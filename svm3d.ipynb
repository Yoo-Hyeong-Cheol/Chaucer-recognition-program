{
 "cells": [
  {
   "cell_type": "code",
   "execution_count": 1,
   "id": "2212a442",
   "metadata": {},
   "outputs": [],
   "source": [
    "from PIL import Image\n",
    "import os\n",
    "from glob import glob\n",
    "from sklearn.model_selection import train_test_split, GridSearchCV\n",
    "from matplotlib import pyplot as plt\n",
    "# import tensorflow as tf\n",
    "import numpy as np\n",
    "# import keras as kr\n"
   ]
  },
  {
   "cell_type": "code",
   "execution_count": 2,
   "id": "635f5120",
   "metadata": {},
   "outputs": [],
   "source": [
    "image_dir_path = os.path.dirname(os.path.abspath(\"__file__\")) + '/Data(224)'\n",
    "categories = os.listdir('./Data(224)')\n",
    "select_cat = []\n",
    "nb_classes = 0\n",
    "\n",
    "\n",
    "X = []\n",
    "y = []\n",
    "\n",
    "count = 0;\n",
    "for idx, c in enumerate(categories):\n",
    "    dir = image_dir_path + '/' + c\n",
    "    f = glob(dir+'/*.jpg')\n",
    "    if len(f) >= 200:\n",
    "        nb_classes += 1\n",
    "        select_cat.append(dir)"
   ]
  },
  {
   "cell_type": "code",
   "execution_count": 3,
   "id": "8eee2343",
   "metadata": {},
   "outputs": [],
   "source": [
    "for index, cat in enumerate(select_cat):\n",
    "    files = glob(select_cat[index]+'/*.jpg')\n",
    "    for i, f in enumerate(files):\n",
    "            img = Image.open(f)\n",
    "            img = img.convert(\"L\")\n",
    "            #img = img.resize((image_w, image_h))\n",
    "            data = np.asarray(img)\n",
    "            \n",
    "            X.append(data)\n",
    "            y.append(index)"
   ]
  },
  {
   "cell_type": "code",
   "execution_count": 4,
   "id": "31d418ea",
   "metadata": {},
   "outputs": [],
   "source": [
    "X = np.array(X)\n",
    "y = np.array(y)\n",
    "\n",
    "nsamples, nx, ny = X.shape\n",
    "X = X.reshape((nsamples,nx*ny))"
   ]
  },
  {
   "cell_type": "code",
   "execution_count": 5,
   "id": "48f26311",
   "metadata": {},
   "outputs": [],
   "source": [
    "X_train, X_test, y_train, Y_test = train_test_split(X, y, test_size = 0.4)\n",
    "x_test, x_val, y_test, y_val = train_test_split(X_test, Y_test, test_size = 0.5)\n"
   ]
  },
  {
   "cell_type": "code",
   "execution_count": 6,
   "id": "5c7ab31d",
   "metadata": {},
   "outputs": [],
   "source": [
    "# from sklearn.preprocessing import MinMaxScaler\n",
    "\n",
    "# scaler = MinMaxScaler()\n",
    "# scaler.fit(X_train)\n",
    "# X_train_sc = scaler.transform(X_train)\n",
    "# x_val_sc = scaler.transform(x_val)\n",
    "# x_test_sc = scaler.transform(x_test)\n",
    "\n",
    "# print(X_train_sc.shape, y_train.shape)\n",
    "# print(x_val_sc.shape, y_val.shape)\n",
    "# print(x_test_sc.shape, y_test.shape)"
   ]
  },
  {
   "cell_type": "code",
   "execution_count": 8,
   "id": "ee97b201",
   "metadata": {},
   "outputs": [
    {
     "name": "stdout",
     "output_type": "stream",
     "text": [
      "(2127, 50176) (2127,)\n",
      "(710, 50176) (710,)\n",
      "(709, 50176) (709,)\n"
     ]
    }
   ],
   "source": [
    "# QuantitleTransformer\n",
    "from sklearn.preprocessing import QuantileTransformer\n",
    "\n",
    "scaler = QuantileTransformer()\n",
    "scaler.fit(X_train)\n",
    "X_train_sc = scaler.transform(X_train)\n",
    "x_test_sc = scaler.transform(x_test)\n",
    "x_val_sc = scaler.transform(x_val)\n",
    "\n",
    "print(X_train_sc.shape, y_train.shape)\n",
    "print(x_val_sc.shape, y_val.shape)\n",
    "print(x_test_sc.shape, y_test.shape)"
   ]
  },
  {
   "cell_type": "code",
   "execution_count": 28,
   "id": "a16f9547",
   "metadata": {},
   "outputs": [],
   "source": [
    "def fitting(X,y,C,gamma):\n",
    "    \n",
    "    model = SVC(kernel='rbf', probability=True, C=C, gamma=gamma)\n",
    "    clf = model.fit(X_train_sc, y_train)\n",
    "    \n",
    "    pred_labels_tr = model.predict(X_train_sc)\n",
    "    pred_labels_val = model.predict(x_val_sc)\n",
    "    \n",
    "    print('----- Evaluation on Validation Data -----')\n",
    "    score_val = model.score(x_val_sc, y_val)\n",
    "    print('Accuracy Score: ', score_val)\n",
    "    \n",
    "    print(classification_report(y_val, pred_labels_val))\n",
    "    print('--------------------------------------------------------')\n",
    "    \n",
    "    print('----- Evaluation on Training Data -----')\n",
    "    score_tr = model.score(X_train_sc, y_train)\n",
    "    print('Accuracy Score: ', score_tr)\n",
    "    \n",
    "    print(classification_report(y_train, pred_labels_tr))\n",
    "    print('--------------------------------------------------------')\n",
    "    \n",
    "    return X_train_sc, x_val_sc, y_train, y_val, clf"
   ]
  },
  {
   "cell_type": "code",
   "execution_count": 29,
   "id": "47c7e08a",
   "metadata": {},
   "outputs": [],
   "source": [
    "def plot_3D (X, x_val_sc, y_val, clf):\n",
    "    \n",
    "    mesh_size = 5\n",
    "    margin = 1\n",
    "    \n",
    "    x_min, x_max = X.iloc[:, 0].fillna(X.mean()).min() - margin, X.iloc[:, 0].fillna(X.mean()).max() + margin\n",
    "    y_min, y_max = X.iloc[:, 1].fillna(X.mean()).min() - margin, X.iloc[:, 1].fillna(X.mean()).max() + margin\n",
    "    xrange = np.arange(x_min, x_max, mesh_size)\n",
    "    yrange = np.arange(y_min, y_max, mesh_size)\n",
    "    xx, yy = np.meshgrid(xrange, yrange)\n",
    "    \n",
    "    Z = clf.predict_proba(np.c_[xx.ravel(), yy.ravel()])[:,1]\n",
    "    Z = Z.reshape(xx.shape)\n",
    "    \n",
    "    fig = px.scatter_3d(x=X_test['rating_difference'], y=X_test['turns'], z=y_test,\n",
    "                       opacity=0.8, color_discrete_sequence=['black'])\n",
    "    \n",
    "    fig.update_layout(\"SVM VALIDATION\", paper_bgcolor = 'white', \n",
    "                     scene = dict(xaxis=dict(backgroundcolor = 'white',\n",
    "                                            color = 'black',\n",
    "                                            gridcolor = '#f0f0f0'),\n",
    "                                 yaxis=dict(backgroundcolor='white',\n",
    "                                           color = 'black',\n",
    "                                           gridcolor='#f0f0f0'),\n",
    "                                 zaxis=dict(backgroundcolor = 'Lightgray',\n",
    "                                           color='black',\n",
    "                                           gridcolor='#f0f0f0',\n",
    "                                           )))\n",
    "    \n",
    "    fig.update_traces(marker=dict(size=1))\n",
    "    \n",
    "    fig.add_traces(go.Surface(x=xrange, y=yrange, z=Z, name='SVM Prediction',\n",
    "                             colorscale='RdBu', showscale=False,\n",
    "                             contours = {\"z\":{\"show\":True, \"start\":0.2, \"end\":0.8,\"size\":0.05}}))\n",
    "    \n",
    "    fig.show()"
   ]
  },
  {
   "cell_type": "code",
   "execution_count": null,
   "id": "bea9a0c4",
   "metadata": {},
   "outputs": [],
   "source": [
    "import pandas as pd\n",
    "from sklearn.metrics import classification_report\n",
    "import plotly.express as px\n",
    "import plotly.graph_objects as go\n",
    "from sklearn.svm import SVC\n",
    "\n",
    "\n",
    "\n",
    "X_train_sc, x_val_sc, y_train, y_val, clf = fitting(X,y,1,'scale')"
   ]
  },
  {
   "cell_type": "code",
   "execution_count": null,
   "id": "99413981",
   "metadata": {},
   "outputs": [],
   "source": [
    "plot_3D(X, x_val, y_val, clf)"
   ]
  },
  {
   "cell_type": "code",
   "execution_count": null,
   "id": "01074e14",
   "metadata": {},
   "outputs": [],
   "source": [
    "X_train, x_val, y_train, y_test, clf = fitting(X, y, 1, 0.1)\n",
    "plot_3D(X,x_val, y_val,clf)"
   ]
  },
  {
   "cell_type": "code",
   "execution_count": null,
   "id": "f9ae30dd",
   "metadata": {},
   "outputs": [],
   "source": [
    "X_train, x_val, y_train, y_test, clf = fitting(X, y, 1, 0.000001)\n",
    "plot_3D(X, x_val, y_val, clf)"
   ]
  }
 ],
 "metadata": {
  "kernelspec": {
   "display_name": "Python 3",
   "language": "python",
   "name": "python3"
  },
  "language_info": {
   "codemirror_mode": {
    "name": "ipython",
    "version": 3
   },
   "file_extension": ".py",
   "mimetype": "text/x-python",
   "name": "python",
   "nbconvert_exporter": "python",
   "pygments_lexer": "ipython3",
   "version": "3.8.8"
  }
 },
 "nbformat": 4,
 "nbformat_minor": 5
}
