{
 "cells": [
  {
   "cell_type": "code",
   "execution_count": 1,
   "id": "2212a442",
   "metadata": {},
   "outputs": [],
   "source": [
    "from PIL import Image\n",
    "import os\n",
    "from glob import glob\n",
    "from sklearn.model_selection import train_test_split, RandomizedSearchCV\n",
    "from matplotlib import pyplot as plt\n",
    "import numpy as np\n",
    "from scipy.stats import reciprocal, uniform\n"
   ]
  },
  {
   "cell_type": "code",
   "execution_count": 2,
   "id": "635f5120",
   "metadata": {},
   "outputs": [],
   "source": [
    "image_dir_path = os.path.dirname(os.path.abspath(\"__file__\")) + '/Data(224)'\n",
    "categories = os.listdir('./Data(224)')\n",
    "select_cat = []\n",
    "nb_classes = 0\n",
    "\n",
    "\n",
    "X = []\n",
    "y = []\n",
    "\n",
    "count = 0;\n",
    "for idx, c in enumerate(categories):\n",
    "    dir = image_dir_path + '/' + c\n",
    "    f = glob(dir+'/*.jpg')\n",
    "    if len(f) >= 200:\n",
    "        nb_classes += 1\n",
    "        select_cat.append(dir)"
   ]
  },
  {
   "cell_type": "code",
   "execution_count": 3,
   "id": "8eee2343",
   "metadata": {},
   "outputs": [],
   "source": [
    "for index, cat in enumerate(select_cat):\n",
    "    files = glob(select_cat[index]+'/*.jpg')\n",
    "    for i, f in enumerate(files):\n",
    "            img = Image.open(f)\n",
    "            img = img.convert(\"L\")\n",
    "            #img = img.resize((image_w, image_h))\n",
    "            data = np.asarray(img)\n",
    "            \n",
    "            X.append(data)\n",
    "            y.append(index)"
   ]
  },
  {
   "cell_type": "code",
   "execution_count": 4,
   "id": "31d418ea",
   "metadata": {},
   "outputs": [],
   "source": [
    "X = np.array(X)\n",
    "y = np.array(y)\n",
    "\n",
    "nsamples, nx, ny = X.shape\n",
    "X = X.reshape((nsamples,nx*ny))"
   ]
  },
  {
   "cell_type": "code",
   "execution_count": 5,
   "id": "48f26311",
   "metadata": {},
   "outputs": [],
   "source": [
    "X_train, X_test, y_train, Y_test = train_test_split(X, y, test_size = 0.4)\n",
    "x_test, x_val, y_test, y_val = train_test_split(X_test, Y_test, test_size = 0.5)\n"
   ]
  },
  {
   "cell_type": "code",
   "execution_count": 6,
   "id": "5c7ab31d",
   "metadata": {},
   "outputs": [],
   "source": [
    "# from sklearn.preprocessing import MinMaxScaler\n",
    "\n",
    "# scaler = MinMaxScaler()\n",
    "# scaler.fit(X_train)\n",
    "# X_train_sc = scaler.transform(X_train)\n",
    "# x_val_sc = scaler.transform(x_val)\n",
    "# x_test_sc = scaler.transform(x_test)\n",
    "\n",
    "# print(X_train_sc.shape, y_train.shape)\n",
    "# print(x_val_sc.shape, y_val.shape)\n",
    "# print(x_test_sc.shape, y_test.shape)"
   ]
  },
  {
   "cell_type": "code",
   "execution_count": 8,
   "id": "ee97b201",
   "metadata": {},
   "outputs": [
    {
     "name": "stdout",
     "output_type": "stream",
     "text": [
      "(2127, 50176) (2127,)\n",
      "(710, 50176) (710,)\n",
      "(709, 50176) (709,)\n"
     ]
    }
   ],
   "source": [
    "# QuantitleTransformer\n",
    "from sklearn.preprocessing import QuantileTransformer\n",
    "\n",
    "scaler = QuantileTransformer()\n",
    "scaler.fit(X_train)\n",
    "X_train_sc = scaler.transform(X_train)\n",
    "x_test_sc = scaler.transform(x_test)\n",
    "x_val_sc = scaler.transform(x_val)\n",
    "\n",
    "print(X_train_sc.shape, y_train.shape)\n",
    "print(x_val_sc.shape, y_val.shape)\n",
    "print(x_test_sc.shape, y_test.shape)"
   ]
  },
  {
   "cell_type": "code",
   "execution_count": 1,
   "id": "a16f9547",
   "metadata": {},
   "outputs": [],
   "source": [
    "def fitting(X,y,C,gamma):\n",
    "    \n",
    "    svm_clf = SVC(decision_function_shape = \"ovr\", gamma = \"auto\")\n",
    "    parma_distributions = {\"gamma\": reciprocal(0.001, 0.1), \"C\": uniform(1,10)}\n",
    "    rnd_search_cv = RandomizeSearchCV(svm_clf, param_distribution, n_iter = 10, verbose = 2, cv=3)\n",
    "    rnd_search_cv.fit(X_trian_sc, y_train)\n",
    "    \n",
    "    pred_labels_tr = model.predict(X_train_sc)\n",
    "    pred_laels_val = model.predict(x_val_sc)\n",
    "    \n",
    "    print('----- Evaluation on Validation Data -----')\n",
    "    score_val = model.score(x_val_sc, y_val)\n",
    "    print('Accuracy Score: ', score_val)\n",
    "    \n",
    "    print(classification_report(y_val, pred_labels_val))\n",
    "    print('--------------------------------------------------------')\n",
    "    \n",
    "    print('----- Evaluation on Training Data -----')\n",
    "    score_tr = model.score(X_train_sc, y_train)\n",
    "    print('Accuracy Score: ', score_tr)\n",
    "    \n",
    "    print(classification_report(y_train, pred_labels_tr))\n",
    "    print('--------------------------------------------------------')\n",
    "    \n",
    "    return X_train_sc, x_val_sc, y_train, y_val, clf"
   ]
  },
  {
   "cell_type": "code",
   "execution_count": 30,
   "id": "4c5fec8b",
   "metadata": {},
   "outputs": [
    {
     "name": "stdout",
     "output_type": "stream",
     "text": [
      "----- Evaluation on Validation Data -----\n",
      "Accuracy Score:  0.6492957746478873\n",
      "              precision    recall  f1-score   support\n",
      "\n",
      "           0       0.43      0.34      0.38        44\n",
      "           1       0.68      0.84      0.75        61\n",
      "           2       0.53      0.60      0.56        42\n",
      "           3       0.64      0.81      0.71        37\n",
      "           4       0.60      0.56      0.57        45\n",
      "           5       0.63      0.74      0.68        43\n",
      "           6       0.76      0.81      0.79        79\n",
      "           7       0.71      0.62      0.67        56\n",
      "           8       0.71      0.49      0.58        41\n",
      "           9       0.75      0.67      0.71        45\n",
      "          10       0.54      0.75      0.63        57\n",
      "          11       0.55      0.64      0.59        58\n",
      "          12       0.76      0.48      0.59        64\n",
      "          13       0.92      0.61      0.73        38\n",
      "\n",
      "    accuracy                           0.65       710\n",
      "   macro avg       0.66      0.64      0.64       710\n",
      "weighted avg       0.66      0.65      0.65       710\n",
      "\n",
      "--------------------------------------------------------\n",
      "----- Evaluation on Training Data -----\n",
      "Accuracy Score:  0.849083215796897\n",
      "              precision    recall  f1-score   support\n",
      "\n",
      "           0       0.68      0.72      0.70       119\n",
      "           1       0.85      0.98      0.91       198\n",
      "           2       0.67      0.67      0.67       122\n",
      "           3       0.80      0.91      0.85       138\n",
      "           4       0.73      0.81      0.77       134\n",
      "           5       0.90      0.86      0.88       128\n",
      "           6       0.94      0.98      0.96       234\n",
      "           7       0.91      0.74      0.82       154\n",
      "           8       0.87      0.69      0.77       121\n",
      "           9       1.00      0.94      0.97       145\n",
      "          10       0.79      0.86      0.82       184\n",
      "          11       0.85      0.84      0.84       173\n",
      "          12       0.86      0.76      0.81       147\n",
      "          13       1.00      0.92      0.96       130\n",
      "\n",
      "    accuracy                           0.85      2127\n",
      "   macro avg       0.85      0.84      0.84      2127\n",
      "weighted avg       0.85      0.85      0.85      2127\n",
      "\n",
      "--------------------------------------------------------\n"
     ]
    }
   ],
   "source": [
    "import pandas as pd\n",
    "from sklearn.metrics import classification_report\n",
    "import plotly.express as px\n",
    "import plotly.graph_objects as go\n",
    "from sklearn.svm import SVC\n",
    "\n",
    "\n",
    "\n",
    "X_train_sc, x_val_sc, y_train, y_val, clf = fitting(X,y,1,'scale')"
   ]
  },
  {
   "cell_type": "code",
   "execution_count": null,
   "id": "993da650",
   "metadata": {},
   "outputs": [],
   "source": [
    "X_train, x_val, y_train, y_test, clf = fitting(X, y, 1, 0.000001)\n"
   ]
  },
  {
   "cell_type": "code",
   "execution_count": null,
   "id": "ad10e9e4",
   "metadata": {},
   "outputs": [],
   "source": [
    "for thisGamma in [.1, .25, .5, 1]:\n",
    "    for thisC in [1,20,70,100]: #[1,5,10,20,40,70,100] \n",
    "        model3=SVC(kernel=\"rbf\", C=thisC,\n",
    "                  gamma=thisGamma).fit(X_train_std, y_train)\n",
    "        m3train=model3.score(X_train_std, y_train)\n",
    "        m3val = model3.score(x_val_std, y_val)\n",
    "        print(\"RBF SVM : C : {}, training score:{:2f}. validation score:{:2f} \\n\".format\n",
    "             (thisC, thisGamma, m3train, m3val))"
   ]
  },
  {
   "cell_type": "code",
   "execution_count": 32,
   "id": "bbe0ec65",
   "metadata": {},
   "outputs": [
    {
     "ename": "NameError",
     "evalue": "name 'thisGamma' is not defined",
     "output_type": "error",
     "traceback": [
      "\u001b[0;31m---------------------------------------------------------------------------\u001b[0m",
      "\u001b[0;31mNameError\u001b[0m                                 Traceback (most recent call last)",
      "\u001b[0;32m<ipython-input-32-8cc2dd930cc9>\u001b[0m in \u001b[0;36m<module>\u001b[0;34m\u001b[0m\n\u001b[1;32m      1\u001b[0m \u001b[0;32mfor\u001b[0m \u001b[0mthinGamma\u001b[0m \u001b[0;32min\u001b[0m \u001b[0;34m[\u001b[0m\u001b[0;36m.1\u001b[0m\u001b[0;34m,\u001b[0m\u001b[0;36m.25\u001b[0m\u001b[0;34m,\u001b[0m\u001b[0;36m.5\u001b[0m\u001b[0;34m,\u001b[0m\u001b[0;36m1\u001b[0m\u001b[0;34m]\u001b[0m\u001b[0;34m:\u001b[0m\u001b[0;34m\u001b[0m\u001b[0;34m\u001b[0m\u001b[0m\n\u001b[1;32m      2\u001b[0m     \u001b[0;32mfor\u001b[0m \u001b[0mthisC\u001b[0m \u001b[0;32min\u001b[0m \u001b[0;34m[\u001b[0m\u001b[0;36m1\u001b[0m\u001b[0;34m,\u001b[0m\u001b[0;36m30\u001b[0m\u001b[0;34m,\u001b[0m\u001b[0;36m70\u001b[0m\u001b[0;34m,\u001b[0m\u001b[0;36m100\u001b[0m\u001b[0;34m]\u001b[0m\u001b[0;34m:\u001b[0m\u001b[0;34m\u001b[0m\u001b[0;34m\u001b[0m\u001b[0m\n\u001b[0;32m----> 3\u001b[0;31m         \u001b[0mmodel\u001b[0m \u001b[0;34m=\u001b[0m \u001b[0mfitting\u001b[0m\u001b[0;34m(\u001b[0m\u001b[0mX\u001b[0m\u001b[0;34m,\u001b[0m \u001b[0my\u001b[0m\u001b[0;34m,\u001b[0m \u001b[0mthisC\u001b[0m\u001b[0;34m,\u001b[0m \u001b[0mthisGamma\u001b[0m\u001b[0;34m)\u001b[0m\u001b[0;34m\u001b[0m\u001b[0;34m\u001b[0m\u001b[0m\n\u001b[0m",
      "\u001b[0;31mNameError\u001b[0m: name 'thisGamma' is not defined"
     ]
    }
   ],
   "source": [
    "# for thinGamma in [.1,.25,.5,1]:\n",
    "#     for thisC in [1,30,70,100]:\n",
    "#         model = fitting(X, y, thisC, thisGamma)"
   ]
  },
  {
   "cell_type": "code",
   "execution_count": null,
   "id": "6dbdd1e4",
   "metadata": {},
   "outputs": [],
   "source": []
  }
 ],
 "metadata": {
  "kernelspec": {
   "display_name": "Python 3",
   "language": "python",
   "name": "python3"
  },
  "language_info": {
   "codemirror_mode": {
    "name": "ipython",
    "version": 3
   },
   "file_extension": ".py",
   "mimetype": "text/x-python",
   "name": "python",
   "nbconvert_exporter": "python",
   "pygments_lexer": "ipython3",
   "version": "3.8.8"
  }
 },
 "nbformat": 4,
 "nbformat_minor": 5
}
