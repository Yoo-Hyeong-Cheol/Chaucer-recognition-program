{
 "cells": [
  {
   "cell_type": "code",
   "execution_count": 176,
   "metadata": {},
   "outputs": [],
   "source": [
    "from __future__ import print_function, division\n",
    "from builtins import range, input\n",
    "# Note: you may need to update your version of future\n",
    "# sudo pip install -U future\n",
    "\n",
    "from keras.layers import Input, Lambda, Dense, Flatten\n",
    "from keras.models import Model\n",
    "from keras.applications.vgg16 import VGG16\n",
    "from keras.applications.vgg16 import preprocess_input\n",
    "from keras.preprocessing import image\n",
    "from keras.preprocessing.image import ImageDataGenerator\n",
    "\n",
    "from sklearn.metrics import confusion_matrix\n",
    "import numpy as np\n",
    "import matplotlib.pyplot as plt\n",
    "\n",
    "from glob import glob\n",
    "import os"
   ]
  },
  {
   "cell_type": "code",
   "execution_count": 177,
   "metadata": {},
   "outputs": [],
   "source": [
    "# re-size all the images to this\n",
    "IMAGE_SIZE = [48, 48] # feel free to change depending on dataset"
   ]
  },
  {
   "cell_type": "code",
   "execution_count": 178,
   "metadata": {},
   "outputs": [],
   "source": [
    "# training config:\n",
    "epochs = 100\n",
    "batch_size = 32"
   ]
  },
  {
   "cell_type": "code",
   "execution_count": 179,
   "metadata": {},
   "outputs": [],
   "source": [
    "train_path = 'train'\n",
    "valid_path = 'test'"
   ]
  },
  {
   "cell_type": "code",
   "execution_count": 180,
   "metadata": {},
   "outputs": [],
   "source": [
    "# useful for getting number of files\n",
    "image_files = glob(train_path + '/*/*.jpg')\n",
    "valid_image_files = glob(valid_path + '/*/*.jpg')\n",
    "# print(image_files)"
   ]
  },
  {
   "cell_type": "code",
   "execution_count": 181,
   "metadata": {},
   "outputs": [
    {
     "name": "stdout",
     "output_type": "stream",
     "text": [
      "['train\\\\Bu_anil', 'train\\\\Chwi_gajil', 'train\\\\Eeo_eojosa', 'train\\\\Ga_olheul', 'train\\\\Gyeong_byeoseul', 'train\\\\Ha_alae', 'train\\\\Ha_eojji', 'train\\\\Il_han', 'train\\\\I_sseo', 'train\\\\Ji_al', 'train\\\\Ji_gal', 'train\\\\Mu_eobseul', 'train\\\\Wi_hal', 'train\\\\Yu_isseul']\n"
     ]
    }
   ],
   "source": [
    "# useful for getting number of classes\n",
    "folders = glob(train_path + '/*')\n",
    "print(folders)"
   ]
  },
  {
   "cell_type": "code",
   "execution_count": 182,
   "metadata": {
    "scrolled": true
   },
   "outputs": [
    {
     "data": {
      "image/png": "[encoded data removed]",
      "text/plain": [
       "<Figure size 432x288 with 1 Axes>"
      ]
     },
     "metadata": {
      "needs_background": "light"
     },
     "output_type": "display_data"
    }
   ],
   "source": [
    "# look at an image for fun\n",
    "plt.imshow(image.img_to_array(image.load_img(np.random.choice(image_files))).astype('uint8'))\n",
    "plt.show()"
   ]
  },
  {
   "cell_type": "code",
   "execution_count": 183,
   "metadata": {},
   "outputs": [],
   "source": [
    "vgg = VGG16(input_shape=IMAGE_SIZE + [3], weights='imagenet', include_top=False)"
   ]
  },
  {
   "cell_type": "code",
   "execution_count": 184,
   "metadata": {},
   "outputs": [],
   "source": [
    "# don't train existing weights\n",
    "for layer in vgg.layers:\n",
    "  layer.trainable = False"
   ]
  },
  {
   "cell_type": "code",
   "execution_count": 185,
   "metadata": {},
   "outputs": [],
   "source": [
    "# our layers - you can add more if you want\n",
    "x = Flatten()(vgg.output)\n",
    "x = Dense(units=32,activation=\"relu\")(x)\n",
    "x = Dense(units=32,activation=\"relu\")(x)"
   ]
  },
  {
   "cell_type": "code",
   "execution_count": 186,
   "metadata": {},
   "outputs": [],
   "source": [
    "# x = Dense(1000, activation='relu')(x)\n",
    "prediction = Dense(len(folders), activation='softmax')(x)"
   ]
  },
  {
   "cell_type": "code",
   "execution_count": 187,
   "metadata": {},
   "outputs": [],
   "source": [
    "# create a model object\n",
    "model = Model(inputs=vgg.input, outputs=prediction)"
   ]
  },
  {
   "cell_type": "code",
   "execution_count": 188,
   "metadata": {
    "scrolled": false
   },
   "outputs": [
    {
     "name": "stdout",
     "output_type": "stream",
     "text": [
      "Model: \"model_8\"\n",
      "_________________________________________________________________\n",
      "Layer (type)                 Output Shape              Param #   \n",
      "=================================================================\n",
      "input_9 (InputLayer)         [(None, 48, 48, 3)]       0         \n",
      "_________________________________________________________________\n",
      "block1_conv1 (Conv2D)        (None, 48, 48, 64)        1792      \n",
      "_________________________________________________________________\n",
      "block1_conv2 (Conv2D)        (None, 48, 48, 64)        36928     \n",
      "_________________________________________________________________\n",
      "block1_pool (MaxPooling2D)   (None, 24, 24, 64)        0         \n",
      "_________________________________________________________________\n",
      "block2_conv1 (Conv2D)        (None, 24, 24, 128)       73856     \n",
      "_________________________________________________________________\n",
      "block2_conv2 (Conv2D)        (None, 24, 24, 128)       147584    \n",
      "_________________________________________________________________\n",
      "block2_pool (MaxPooling2D)   (None, 12, 12, 128)       0         \n",
      "_________________________________________________________________\n",
      "block3_conv1 (Conv2D)        (None, 12, 12, 256)       295168    \n",
      "_________________________________________________________________\n",
      "block3_conv2 (Conv2D)        (None, 12, 12, 256)       590080    \n",
      "_________________________________________________________________\n",
      "block3_conv3 (Conv2D)        (None, 12, 12, 256)       590080    \n",
      "_________________________________________________________________\n",
      "block3_pool (MaxPooling2D)   (None, 6, 6, 256)         0         \n",
      "_________________________________________________________________\n",
      "block4_conv1 (Conv2D)        (None, 6, 6, 512)         1180160   \n",
      "_________________________________________________________________\n",
      "block4_conv2 (Conv2D)        (None, 6, 6, 512)         2359808   \n",
      "_________________________________________________________________\n",
      "block4_conv3 (Conv2D)        (None, 6, 6, 512)         2359808   \n",
      "_________________________________________________________________\n",
      "block4_pool (MaxPooling2D)   (None, 3, 3, 512)         0         \n",
      "_________________________________________________________________\n",
      "block5_conv1 (Conv2D)        (None, 3, 3, 512)         2359808   \n",
      "_________________________________________________________________\n",
      "block5_conv2 (Conv2D)        (None, 3, 3, 512)         2359808   \n",
      "_________________________________________________________________\n",
      "block5_conv3 (Conv2D)        (None, 3, 3, 512)         2359808   \n",
      "_________________________________________________________________\n",
      "block5_pool (MaxPooling2D)   (None, 1, 1, 512)         0         \n",
      "_________________________________________________________________\n",
      "flatten_8 (Flatten)          (None, 512)               0         \n",
      "_________________________________________________________________\n",
      "dense_24 (Dense)             (None, 32)                16416     \n",
      "_________________________________________________________________\n",
      "dense_25 (Dense)             (None, 32)                1056      \n",
      "_________________________________________________________________\n",
      "dense_26 (Dense)             (None, 14)                462       \n",
      "=================================================================\n",
      "Total params: 14,732,622\n",
      "Trainable params: 17,934\n",
      "Non-trainable params: 14,714,688\n",
      "_________________________________________________________________\n"
     ]
    }
   ],
   "source": [
    "# view the structure of the model\n",
    "model.summary()"
   ]
  },
  {
   "cell_type": "code",
   "execution_count": 189,
   "metadata": {},
   "outputs": [],
   "source": [
    "\n",
    "# tell the model what cost and optimization method to use\n",
    "# optimizer: RMSprop, Adam\n",
    "model.compile(\n",
    "  loss='categorical_crossentropy',\n",
    "  optimizer='Adam',\n",
    "  metrics=['accuracy']\n",
    ")"
   ]
  },
  {
   "cell_type": "code",
   "execution_count": 190,
   "metadata": {},
   "outputs": [],
   "source": [
    "\n",
    "# create an instance of ImageDataGenerator\n",
    "gen = ImageDataGenerator(\n",
    "  \n",
    "  width_shift_range=0.1,\n",
    "  height_shift_range=-0.1,\n",
    "  zoom_range=0.2,\n",
    "  horizontal_flip=False,\n",
    "  vertical_flip=False,\n",
    "  preprocessing_function=preprocess_input\n",
    ")"
   ]
  },
  {
   "cell_type": "code",
   "execution_count": 191,
   "metadata": {
    "scrolled": true
   },
   "outputs": [
    {
     "name": "stdout",
     "output_type": "stream",
     "text": [
      "Found 711 images belonging to 14 classes.\n",
      "{'Bu_anil': 0, 'Chwi_gajil': 1, 'Eeo_eojosa': 2, 'Ga_olheul': 3, 'Gyeong_byeoseul': 4, 'Ha_alae': 5, 'Ha_eojji': 6, 'I_sseo': 7, 'Il_han': 8, 'Ji_al': 9, 'Ji_gal': 10, 'Mu_eobseul': 11, 'Wi_hal': 12, 'Yu_isseul': 13}\n"
     ]
    }
   ],
   "source": [
    "# test generator to see how it works and some other useful things\n",
    "\n",
    "# get label mapping for confusion matrix plot later\n",
    "test_gen = gen.flow_from_directory(valid_path, target_size=IMAGE_SIZE)\n",
    "print(test_gen.class_indices)\n",
    "labels = [None] * len(test_gen.class_indices)\n",
    "for k, v in test_gen.class_indices.items():\n",
    "  labels[v] = k"
   ]
  },
  {
   "cell_type": "code",
   "execution_count": 192,
   "metadata": {},
   "outputs": [
    {
     "name": "stdout",
     "output_type": "stream",
     "text": [
      "min: -79.8177 max: 151.061\n"
     ]
    },
    {
     "name": "stderr",
     "output_type": "stream",
     "text": [
      "Clipping input data to the valid range for imshow with RGB data ([0..1] for floats or [0..255] for integers).\n"
     ]
    },
    {
     "data": {
      "image/png": "[encoded data removed]",
      "text/plain": [
       "<Figure size 432x288 with 1 Axes>"
      ]
     },
     "metadata": {
      "needs_background": "light"
     },
     "output_type": "display_data"
    }
   ],
   "source": [
    "# should be a strangely colored image (due to VGG weights being BGR)\n",
    "for x, y in test_gen:\n",
    "    print(\"min:\", x[0].min(), \"max:\", x[0].max())\n",
    "    plt.title(labels[np.argmax(y[0])])\n",
    "    plt.imshow(x[0])\n",
    "    plt.show()\n",
    "    break"
   ]
  },
  {
   "cell_type": "code",
   "execution_count": 193,
   "metadata": {},
   "outputs": [
    {
     "name": "stdout",
     "output_type": "stream",
     "text": [
      "Found 2835 images belonging to 14 classes.\n"
     ]
    }
   ],
   "source": [
    "\n",
    "# create generators\n",
    "train_generator = gen.flow_from_directory(\n",
    "  train_path,\n",
    "  target_size=IMAGE_SIZE,\n",
    "  shuffle=True,\n",
    "  batch_size=batch_size,\n",
    ")"
   ]
  },
  {
   "cell_type": "code",
   "execution_count": 194,
   "metadata": {},
   "outputs": [
    {
     "name": "stdout",
     "output_type": "stream",
     "text": [
      "Found 711 images belonging to 14 classes.\n"
     ]
    }
   ],
   "source": [
    "\n",
    "valid_generator = gen.flow_from_directory(\n",
    "  valid_path,\n",
    "  target_size=IMAGE_SIZE,\n",
    "  shuffle=True,\n",
    "  batch_size=batch_size,\n",
    ")"
   ]
  },
  {
   "cell_type": "code",
   "execution_count": 195,
   "metadata": {
    "scrolled": false
   },
   "outputs": [
    {
     "name": "stderr",
     "output_type": "stream",
     "text": [
      "C:\\Users\\SeonminKim\\anaconda3\\lib\\site-packages\\tensorflow\\python\\keras\\engine\\training.py:1844: UserWarning: `Model.fit_generator` is deprecated and will be removed in a future version. Please use `Model.fit`, which supports generators.\n",
      "  warnings.warn('`Model.fit_generator` is deprecated and '\n"
     ]
    },
    {
     "name": "stdout",
     "output_type": "stream",
     "text": [
      "Epoch 1/100\n",
      "88/88 [==============================] - 25s 282ms/step - loss: 4.7469 - accuracy: 0.1941 - val_loss: 1.9100 - val_accuracy: 0.3949\n",
      "Epoch 2/100\n",
      "88/88 [==============================] - 30s 346ms/step - loss: 1.6905 - accuracy: 0.4613 - val_loss: 1.6258 - val_accuracy: 0.4801\n",
      "Epoch 3/100\n",
      "88/88 [==============================] - 31s 355ms/step - loss: 1.3896 - accuracy: 0.5436 - val_loss: 1.3852 - val_accuracy: 0.5625\n",
      "Epoch 4/100\n",
      "88/88 [==============================] - 30s 341ms/step - loss: 1.2911 - accuracy: 0.5755 - val_loss: 1.3253 - val_accuracy: 0.5824\n",
      "Epoch 5/100\n",
      "88/88 [==============================] - 30s 339ms/step - loss: 1.2096 - accuracy: 0.6016 - val_loss: 1.1707 - val_accuracy: 0.6179\n",
      "Epoch 6/100\n",
      "88/88 [==============================] - 30s 338ms/step - loss: 1.0691 - accuracy: 0.6455 - val_loss: 1.1659 - val_accuracy: 0.6278\n",
      "Epoch 7/100\n",
      "88/88 [==============================] - 30s 339ms/step - loss: 1.0105 - accuracy: 0.6775 - val_loss: 1.0712 - val_accuracy: 0.6676\n",
      "Epoch 8/100\n",
      "88/88 [==============================] - 31s 354ms/step - loss: 0.9495 - accuracy: 0.6912 - val_loss: 1.0045 - val_accuracy: 0.6733\n",
      "Epoch 9/100\n",
      "88/88 [==============================] - 30s 336ms/step - loss: 0.9233 - accuracy: 0.6987 - val_loss: 0.9763 - val_accuracy: 0.6875\n",
      "Epoch 10/100\n",
      "88/88 [==============================] - 29s 335ms/step - loss: 0.8987 - accuracy: 0.7012 - val_loss: 1.0421 - val_accuracy: 0.6832\n",
      "Epoch 11/100\n",
      "88/88 [==============================] - 29s 334ms/step - loss: 0.8501 - accuracy: 0.7259 - val_loss: 1.0376 - val_accuracy: 0.6662\n",
      "Epoch 12/100\n",
      "88/88 [==============================] - 30s 338ms/step - loss: 0.8246 - accuracy: 0.7280 - val_loss: 0.9656 - val_accuracy: 0.6932\n",
      "Epoch 13/100\n",
      "88/88 [==============================] - 30s 336ms/step - loss: 0.7849 - accuracy: 0.7291 - val_loss: 0.9860 - val_accuracy: 0.7003\n",
      "Epoch 14/100\n",
      "88/88 [==============================] - 30s 336ms/step - loss: 0.7589 - accuracy: 0.7465 - val_loss: 0.8982 - val_accuracy: 0.7145\n",
      "Epoch 15/100\n",
      "88/88 [==============================] - 29s 335ms/step - loss: 0.7583 - accuracy: 0.7509 - val_loss: 0.8981 - val_accuracy: 0.7031\n",
      "Epoch 16/100\n",
      "88/88 [==============================] - 29s 335ms/step - loss: 0.7359 - accuracy: 0.7529 - val_loss: 0.8711 - val_accuracy: 0.7301\n",
      "Epoch 17/100\n",
      "88/88 [==============================] - 30s 339ms/step - loss: 0.7132 - accuracy: 0.7470 - val_loss: 0.9020 - val_accuracy: 0.7230\n",
      "Epoch 18/100\n",
      "88/88 [==============================] - 30s 340ms/step - loss: 0.6950 - accuracy: 0.7695 - val_loss: 0.9093 - val_accuracy: 0.7116\n",
      "Epoch 19/100\n",
      "88/88 [==============================] - 30s 339ms/step - loss: 0.7044 - accuracy: 0.7653 - val_loss: 0.8760 - val_accuracy: 0.7344\n",
      "Epoch 20/100\n",
      "88/88 [==============================] - 30s 338ms/step - loss: 0.7193 - accuracy: 0.7551 - val_loss: 0.8395 - val_accuracy: 0.7457\n",
      "Epoch 21/100\n",
      "88/88 [==============================] - 30s 341ms/step - loss: 0.6184 - accuracy: 0.7970 - val_loss: 0.8699 - val_accuracy: 0.7173\n",
      "Epoch 22/100\n",
      "88/88 [==============================] - 30s 337ms/step - loss: 0.7083 - accuracy: 0.7564 - val_loss: 0.9190 - val_accuracy: 0.7131\n",
      "Epoch 23/100\n",
      "88/88 [==============================] - 30s 340ms/step - loss: 0.6209 - accuracy: 0.7886 - val_loss: 0.8112 - val_accuracy: 0.7358\n",
      "Epoch 24/100\n",
      "88/88 [==============================] - 30s 338ms/step - loss: 0.6077 - accuracy: 0.7896 - val_loss: 0.9432 - val_accuracy: 0.7074\n",
      "Epoch 25/100\n",
      "88/88 [==============================] - 32s 359ms/step - loss: 0.6852 - accuracy: 0.7689 - val_loss: 0.8732 - val_accuracy: 0.7188\n",
      "Epoch 26/100\n",
      "88/88 [==============================] - 33s 373ms/step - loss: 0.6196 - accuracy: 0.7877 - val_loss: 0.8305 - val_accuracy: 0.7301\n",
      "Epoch 27/100\n",
      "88/88 [==============================] - 32s 360ms/step - loss: 0.5846 - accuracy: 0.8102 - val_loss: 0.8282 - val_accuracy: 0.7287\n",
      "Epoch 28/100\n",
      "88/88 [==============================] - 30s 337ms/step - loss: 0.5962 - accuracy: 0.7915 - val_loss: 0.8238 - val_accuracy: 0.7500\n",
      "Epoch 29/100\n",
      "88/88 [==============================] - 30s 343ms/step - loss: 0.6305 - accuracy: 0.7967 - val_loss: 0.8807 - val_accuracy: 0.7330\n",
      "Epoch 30/100\n",
      "88/88 [==============================] - 30s 338ms/step - loss: 0.6129 - accuracy: 0.7902 - val_loss: 0.8554 - val_accuracy: 0.7358\n",
      "Epoch 31/100\n",
      "88/88 [==============================] - 30s 336ms/step - loss: 0.5777 - accuracy: 0.8108 - val_loss: 0.8036 - val_accuracy: 0.7358\n",
      "Epoch 32/100\n",
      "88/88 [==============================] - 30s 337ms/step - loss: 0.6071 - accuracy: 0.7978 - val_loss: 0.8274 - val_accuracy: 0.7273\n",
      "Epoch 33/100\n",
      "88/88 [==============================] - 30s 337ms/step - loss: 0.6072 - accuracy: 0.8015 - val_loss: 0.8714 - val_accuracy: 0.7287\n",
      "Epoch 34/100\n",
      "88/88 [==============================] - 30s 340ms/step - loss: 0.6112 - accuracy: 0.7880 - val_loss: 0.8191 - val_accuracy: 0.7614\n",
      "Epoch 35/100\n",
      "88/88 [==============================] - 30s 337ms/step - loss: 0.6071 - accuracy: 0.7811 - val_loss: 0.7826 - val_accuracy: 0.7514\n",
      "Epoch 36/100\n",
      "88/88 [==============================] - 30s 337ms/step - loss: 0.5933 - accuracy: 0.7980 - val_loss: 0.9176 - val_accuracy: 0.7273\n",
      "Epoch 37/100\n",
      "88/88 [==============================] - 30s 339ms/step - loss: 0.5426 - accuracy: 0.8107 - val_loss: 0.9095 - val_accuracy: 0.7230\n",
      "Epoch 38/100\n",
      "88/88 [==============================] - 31s 352ms/step - loss: 0.5425 - accuracy: 0.8209 - val_loss: 0.8253 - val_accuracy: 0.7472\n",
      "Epoch 39/100\n",
      "88/88 [==============================] - 30s 337ms/step - loss: 0.5464 - accuracy: 0.8226 - val_loss: 0.8676 - val_accuracy: 0.7457\n",
      "Epoch 40/100\n",
      "88/88 [==============================] - 30s 337ms/step - loss: 0.5448 - accuracy: 0.8133 - val_loss: 0.8092 - val_accuracy: 0.7528\n",
      "Epoch 41/100\n",
      "88/88 [==============================] - 30s 337ms/step - loss: 0.5350 - accuracy: 0.8151 - val_loss: 0.8688 - val_accuracy: 0.7543\n",
      "Epoch 42/100\n",
      "88/88 [==============================] - 31s 351ms/step - loss: 0.5496 - accuracy: 0.8211 - val_loss: 0.8274 - val_accuracy: 0.7273\n",
      "Epoch 43/100\n",
      "88/88 [==============================] - 30s 342ms/step - loss: 0.5501 - accuracy: 0.8194 - val_loss: 0.8599 - val_accuracy: 0.7273\n",
      "Epoch 44/100\n",
      "88/88 [==============================] - 32s 364ms/step - loss: 0.5708 - accuracy: 0.8025 - val_loss: 0.8241 - val_accuracy: 0.7628\n",
      "Epoch 45/100\n",
      "88/88 [==============================] - 30s 337ms/step - loss: 0.5108 - accuracy: 0.8213 - val_loss: 0.8186 - val_accuracy: 0.7500\n",
      "Epoch 46/100\n",
      "88/88 [==============================] - 31s 354ms/step - loss: 0.5234 - accuracy: 0.8232 - val_loss: 0.8443 - val_accuracy: 0.7315\n",
      "Epoch 47/100\n",
      "88/88 [==============================] - 30s 342ms/step - loss: 0.5286 - accuracy: 0.8277 - val_loss: 0.8446 - val_accuracy: 0.7472\n",
      "Epoch 48/100\n",
      "88/88 [==============================] - 30s 340ms/step - loss: 0.5387 - accuracy: 0.8223 - val_loss: 0.8361 - val_accuracy: 0.7543\n",
      "Epoch 49/100\n",
      "88/88 [==============================] - 30s 335ms/step - loss: 0.5464 - accuracy: 0.8181 - val_loss: 0.7929 - val_accuracy: 0.7585\n",
      "Epoch 50/100\n",
      "88/88 [==============================] - 30s 337ms/step - loss: 0.5318 - accuracy: 0.8165 - val_loss: 0.8054 - val_accuracy: 0.7571\n",
      "Epoch 51/100\n",
      "88/88 [==============================] - 30s 336ms/step - loss: 0.4948 - accuracy: 0.8297 - val_loss: 0.8346 - val_accuracy: 0.7472\n",
      "Epoch 52/100\n",
      "88/88 [==============================] - 30s 336ms/step - loss: 0.4637 - accuracy: 0.8428 - val_loss: 0.8450 - val_accuracy: 0.7514\n",
      "Epoch 53/100\n",
      "88/88 [==============================] - 30s 337ms/step - loss: 0.4850 - accuracy: 0.8360 - val_loss: 0.8563 - val_accuracy: 0.7500\n",
      "Epoch 54/100\n",
      "88/88 [==============================] - 30s 345ms/step - loss: 0.5217 - accuracy: 0.8251 - val_loss: 0.8495 - val_accuracy: 0.7472\n",
      "Epoch 55/100\n",
      "88/88 [==============================] - 30s 337ms/step - loss: 0.5430 - accuracy: 0.8124 - val_loss: 0.8107 - val_accuracy: 0.7557\n",
      "Epoch 56/100\n",
      "88/88 [==============================] - 30s 337ms/step - loss: 0.5144 - accuracy: 0.8328 - val_loss: 0.8368 - val_accuracy: 0.7500\n",
      "Epoch 57/100\n",
      "88/88 [==============================] - 29s 335ms/step - loss: 0.5006 - accuracy: 0.8307 - val_loss: 0.8813 - val_accuracy: 0.7514\n",
      "Epoch 58/100\n",
      "88/88 [==============================] - 29s 335ms/step - loss: 0.5151 - accuracy: 0.8216 - val_loss: 0.8800 - val_accuracy: 0.7372\n",
      "Epoch 59/100\n",
      "88/88 [==============================] - 30s 336ms/step - loss: 0.5187 - accuracy: 0.8289 - val_loss: 0.8835 - val_accuracy: 0.7287\n",
      "Epoch 60/100\n",
      "88/88 [==============================] - 31s 348ms/step - loss: 0.5136 - accuracy: 0.8263 - val_loss: 0.8739 - val_accuracy: 0.7528\n",
      "Epoch 61/100\n",
      "88/88 [==============================] - 29s 334ms/step - loss: 0.5056 - accuracy: 0.8287 - val_loss: 0.8623 - val_accuracy: 0.7415\n",
      "Epoch 62/100\n",
      "88/88 [==============================] - 30s 344ms/step - loss: 0.4849 - accuracy: 0.8393 - val_loss: 0.9405 - val_accuracy: 0.7415\n",
      "Epoch 63/100\n",
      "88/88 [==============================] - 30s 341ms/step - loss: 0.5051 - accuracy: 0.8245 - val_loss: 0.8483 - val_accuracy: 0.7614\n",
      "Epoch 64/100\n",
      "88/88 [==============================] - 32s 370ms/step - loss: 0.4802 - accuracy: 0.8253 - val_loss: 0.8369 - val_accuracy: 0.7443\n",
      "Epoch 65/100\n",
      "88/88 [==============================] - 39s 438ms/step - loss: 0.5068 - accuracy: 0.8418 - val_loss: 0.8440 - val_accuracy: 0.7457\n",
      "Epoch 66/100\n",
      "88/88 [==============================] - 36s 407ms/step - loss: 0.5053 - accuracy: 0.8224 - val_loss: 0.8330 - val_accuracy: 0.7543\n",
      "Epoch 67/100\n",
      "88/88 [==============================] - 38s 431ms/step - loss: 0.4733 - accuracy: 0.8449 - val_loss: 0.8901 - val_accuracy: 0.7500\n",
      "Epoch 68/100\n",
      "88/88 [==============================] - 38s 437ms/step - loss: 0.5050 - accuracy: 0.8298 - val_loss: 0.8389 - val_accuracy: 0.7585\n",
      "Epoch 69/100\n",
      "88/88 [==============================] - 38s 433ms/step - loss: 0.4736 - accuracy: 0.8389 - val_loss: 0.8568 - val_accuracy: 0.7415\n",
      "Epoch 70/100\n",
      "88/88 [==============================] - 38s 429ms/step - loss: 0.5128 - accuracy: 0.8245 - val_loss: 0.8049 - val_accuracy: 0.7571\n",
      "Epoch 71/100\n",
      "88/88 [==============================] - 38s 428ms/step - loss: 0.4874 - accuracy: 0.8359 - val_loss: 0.7834 - val_accuracy: 0.7685\n",
      "Epoch 72/100\n",
      "88/88 [==============================] - 44s 498ms/step - loss: 0.4679 - accuracy: 0.8381 - val_loss: 0.8192 - val_accuracy: 0.7642\n",
      "Epoch 73/100\n",
      "88/88 [==============================] - 42s 482ms/step - loss: 0.4534 - accuracy: 0.8479 - val_loss: 0.8672 - val_accuracy: 0.7543\n",
      "Epoch 74/100\n",
      "88/88 [==============================] - 41s 463ms/step - loss: 0.4473 - accuracy: 0.8378 - val_loss: 0.8619 - val_accuracy: 0.7457\n",
      "Epoch 75/100\n",
      "88/88 [==============================] - 47s 534ms/step - loss: 0.4574 - accuracy: 0.8375 - val_loss: 0.8556 - val_accuracy: 0.7557\n",
      "Epoch 76/100\n",
      "88/88 [==============================] - 39s 447ms/step - loss: 0.4732 - accuracy: 0.8426 - val_loss: 0.8053 - val_accuracy: 0.7358\n",
      "Epoch 77/100\n",
      "88/88 [==============================] - 31s 350ms/step - loss: 0.4835 - accuracy: 0.8300 - val_loss: 0.7985 - val_accuracy: 0.7656\n",
      "Epoch 78/100\n",
      "88/88 [==============================] - 36s 409ms/step - loss: 0.4781 - accuracy: 0.8363 - val_loss: 0.8539 - val_accuracy: 0.7514\n",
      "Epoch 79/100\n",
      "88/88 [==============================] - 38s 430ms/step - loss: 0.5222 - accuracy: 0.8136 - val_loss: 0.9635 - val_accuracy: 0.7386\n",
      "Epoch 80/100\n",
      "88/88 [==============================] - 38s 432ms/step - loss: 0.4778 - accuracy: 0.8442 - val_loss: 0.8074 - val_accuracy: 0.7599\n",
      "Epoch 81/100\n",
      "88/88 [==============================] - 38s 433ms/step - loss: 0.4864 - accuracy: 0.8351 - val_loss: 0.8719 - val_accuracy: 0.7614\n",
      "Epoch 82/100\n",
      "88/88 [==============================] - 38s 429ms/step - loss: 0.4496 - accuracy: 0.8392 - val_loss: 0.8506 - val_accuracy: 0.7486\n",
      "Epoch 83/100\n",
      "88/88 [==============================] - 40s 461ms/step - loss: 0.4899 - accuracy: 0.8334 - val_loss: 0.8216 - val_accuracy: 0.7614\n",
      "Epoch 84/100\n",
      "88/88 [==============================] - 34s 384ms/step - loss: 0.4499 - accuracy: 0.8444 - val_loss: 0.8716 - val_accuracy: 0.7628\n",
      "Epoch 85/100\n",
      "88/88 [==============================] - 34s 386ms/step - loss: 0.4446 - accuracy: 0.8422 - val_loss: 0.8245 - val_accuracy: 0.7642\n",
      "Epoch 86/100\n",
      "88/88 [==============================] - 33s 375ms/step - loss: 0.4760 - accuracy: 0.8433 - val_loss: 0.7722 - val_accuracy: 0.7543\n",
      "Epoch 87/100\n",
      "88/88 [==============================] - 31s 355ms/step - loss: 0.4412 - accuracy: 0.8451 - val_loss: 0.8462 - val_accuracy: 0.7401\n",
      "Epoch 88/100\n",
      "88/88 [==============================] - 30s 339ms/step - loss: 0.4967 - accuracy: 0.8310 - val_loss: 0.8031 - val_accuracy: 0.7571\n",
      "Epoch 89/100\n",
      "88/88 [==============================] - 30s 337ms/step - loss: 0.4218 - accuracy: 0.8520 - val_loss: 0.7312 - val_accuracy: 0.7741\n",
      "Epoch 90/100\n",
      "88/88 [==============================] - 31s 347ms/step - loss: 0.4638 - accuracy: 0.8245 - val_loss: 0.9173 - val_accuracy: 0.7443\n",
      "Epoch 91/100\n",
      "88/88 [==============================] - 30s 337ms/step - loss: 0.4363 - accuracy: 0.8501 - val_loss: 0.8397 - val_accuracy: 0.7571\n",
      "Epoch 92/100\n",
      "88/88 [==============================] - 30s 336ms/step - loss: 0.4494 - accuracy: 0.8521 - val_loss: 0.8420 - val_accuracy: 0.7699\n",
      "Epoch 93/100\n",
      "88/88 [==============================] - 30s 346ms/step - loss: 0.4521 - accuracy: 0.8482 - val_loss: 0.7948 - val_accuracy: 0.7557\n",
      "Epoch 94/100\n",
      "88/88 [==============================] - 30s 338ms/step - loss: 0.4654 - accuracy: 0.8414 - val_loss: 0.9057 - val_accuracy: 0.7401\n",
      "Epoch 95/100\n",
      "88/88 [==============================] - 30s 335ms/step - loss: 0.4519 - accuracy: 0.8357 - val_loss: 0.8304 - val_accuracy: 0.7486\n",
      "Epoch 96/100\n",
      "88/88 [==============================] - 30s 337ms/step - loss: 0.4592 - accuracy: 0.8427 - val_loss: 0.8605 - val_accuracy: 0.7486\n",
      "Epoch 97/100\n",
      "88/88 [==============================] - 30s 336ms/step - loss: 0.4562 - accuracy: 0.8353 - val_loss: 0.8596 - val_accuracy: 0.7486\n",
      "Epoch 98/100\n",
      "88/88 [==============================] - 30s 336ms/step - loss: 0.4931 - accuracy: 0.8254 - val_loss: 0.8218 - val_accuracy: 0.7628\n",
      "Epoch 99/100\n",
      "88/88 [==============================] - 29s 335ms/step - loss: 0.4595 - accuracy: 0.8355 - val_loss: 0.7745 - val_accuracy: 0.7756\n",
      "Epoch 100/100\n",
      "88/88 [==============================] - 30s 338ms/step - loss: 0.4514 - accuracy: 0.8446 - val_loss: 0.8465 - val_accuracy: 0.7628\n"
     ]
    }
   ],
   "source": [
    "# fit the model\n",
    "r = model.fit_generator(\n",
    "  train_generator,\n",
    "  validation_data=valid_generator,\n",
    "  epochs=epochs,\n",
    "  steps_per_epoch=len(image_files) // batch_size,\n",
    "  validation_steps=len(valid_image_files) // batch_size,\n",
    ")"
   ]
  },
  {
   "cell_type": "code",
   "execution_count": 169,
   "metadata": {},
   "outputs": [
    {
     "name": "stdout",
     "output_type": "stream",
     "text": [
      "INFO:tensorflow:Assets written to: CursiveScriptCF\\assets\n"
     ]
    }
   ],
   "source": [
    "model.save(\"CursiveScriptCF\")"
   ]
  },
  {
   "cell_type": "code",
   "execution_count": 170,
   "metadata": {},
   "outputs": [],
   "source": [
    "def get_confusion_matrix(data_path, N):\n",
    "  # we need to see the data in the same order\n",
    "  # for both predictions and targets\n",
    "  print(\"Generating confusion matrix\", N)\n",
    "  predictions = []\n",
    "  targets = []\n",
    "  i = 0\n",
    "  for x, y in gen.flow_from_directory(data_path, target_size=IMAGE_SIZE, shuffle=False, batch_size=batch_size * 2):\n",
    "    i += 1\n",
    "    if i % 50 == 0:\n",
    "      print(i)\n",
    "    p = model.predict(x)\n",
    "    p = np.argmax(p, axis=1)\n",
    "    y = np.argmax(y, axis=1)\n",
    "    predictions = np.concatenate((predictions, p))\n",
    "    targets = np.concatenate((targets, y))\n",
    "    if len(targets) >= N:\n",
    "      break\n",
    "\n",
    "  cm = confusion_matrix(targets, predictions)\n",
    "  return cm"
   ]
  },
  {
   "cell_type": "code",
   "execution_count": 171,
   "metadata": {},
   "outputs": [
    {
     "name": "stdout",
     "output_type": "stream",
     "text": [
      "Generating confusion matrix 2835\n",
      "Found 2835 images belonging to 14 classes.\n",
      "[[264   0   0   0   0   0   0   0   0   0   0   0   0   0]\n",
      " [  0  84   3   0   0   3   0   1   0  22   4   1  16  28]\n",
      " [  1   0 133   0   0   0   0   0   0  10   0   1  16   1]\n",
      " [  0   0   0 189   0   0   0   0   0   0   0   0   0   0]\n",
      " [  0   0   0   0 167   0   0   0   0   0   0   0   6   0]\n",
      " [  0   0   0   0   0 157   0   0   0   1   2   0   2   0]\n",
      " [  7   0   0   2   1   0 130   1   0   7   1   0  16   0]\n",
      " [  0   0   0   0   0   1   0 194   0   5   0   0   3   5]\n",
      " [  0   0   0   0   0   0   0   0 184   0   0   0   0   0]\n",
      " [  2   0   0   0   0   1   0   0   0 221   3   0  12   1]\n",
      " [  0   0   0   0   0   0   0   0   1   6 179   0   0   0]\n",
      " [  4   0   0   0   0   0   0   0   0   0   0 294   2   1]\n",
      " [  0   0   0   0   0   0   0   0   0   0   0   0 230   0]\n",
      " [  0   0   0   0   0   0   0   0   0   1   0   0   8 200]]\n"
     ]
    }
   ],
   "source": [
    "cm = get_confusion_matrix(train_path, len(image_files))\n",
    "print(cm)"
   ]
  },
  {
   "cell_type": "code",
   "execution_count": 172,
   "metadata": {},
   "outputs": [
    {
     "name": "stdout",
     "output_type": "stream",
     "text": [
      "Generating confusion matrix 711\n",
      "Found 711 images belonging to 14 classes.\n",
      "[[45  0  0  6  1  0  0  0  0  0  0  9  1  4]\n",
      " [ 0 12  6  0  0  0  0  0  0  8  1  0  8  7]\n",
      " [ 3  2 20  0  0  1  0  3  0  2  0  3  7  2]\n",
      " [ 1  0  0 43  1  0  1  0  0  0  1  0  0  0]\n",
      " [ 2  0  0  1 27  0  1  0  1  1  0  4  1  1]\n",
      " [ 0  1  0  0  1 31  0  3  2  3  1  0  0  0]\n",
      " [ 4  1  0  4  7  1 15  0  0  1  2  0  7  1]\n",
      " [ 0  0  1  0  0  5  0 34  0  8  1  0  1  2]\n",
      " [ 0  0  0  0  0  1  0  0 44  0  0  0  0  0]\n",
      " [ 4  0  2  1  0  2  0  2  0 37  2  0  9  0]\n",
      " [ 0  0  1  0  0  1  0  0  0  2 43  0  0  2]\n",
      " [ 3  0  0  2  1  0  0  0  0  0  0 69  1  0]\n",
      " [ 1  0  0  2  1  0  0  0  0  5  0  1 43  2]\n",
      " [ 4  0  2  0  0  1  0  1  0  2  0  0  6 37]]\n"
     ]
    }
   ],
   "source": [
    "valid_cm = get_confusion_matrix(valid_path, len(valid_image_files))\n",
    "print(valid_cm)"
   ]
  },
  {
   "cell_type": "code",
   "execution_count": 173,
   "metadata": {},
   "outputs": [
    {
     "data": {
      "image/png": "[encoded data removed]",
      "text/plain": [
       "<Figure size 432x288 with 1 Axes>"
      ]
     },
     "metadata": {
      "needs_background": "light"
     },
     "output_type": "display_data"
    }
   ],
   "source": [
    "# plot some data\n",
    "\n",
    "# loss\n",
    "plt.plot(r.history['loss'],label='train loss')\n",
    "plt.plot(r.history['val_loss'], label='val loss')\n",
    "plt.legend()\n",
    "plt.show()"
   ]
  },
  {
   "cell_type": "code",
   "execution_count": 174,
   "metadata": {},
   "outputs": [
    {
     "data": {
      "image/png": "[encoded data removed]",
      "text/plain": [
       "<Figure size 432x288 with 1 Axes>"
      ]
     },
     "metadata": {
      "needs_background": "light"
     },
     "output_type": "display_data"
    }
   ],
   "source": [
    "# accuracies\n",
    "plt.plot(r.history['accuracy'], label='train acc')\n",
    "plt.plot(r.history['val_accuracy'], label='val_accuracy')\n",
    "plt.legend()\n",
    "plt.show()"
   ]
  },
  {
   "cell_type": "code",
   "execution_count": 175,
   "metadata": {},
   "outputs": [
    {
     "ename": "ModuleNotFoundError",
     "evalue": "No module named 'util'",
     "output_type": "error",
     "traceback": [
      "\u001b[1;31m---------------------------------------------------------------------------\u001b[0m",
      "\u001b[1;31mModuleNotFoundError\u001b[0m                       Traceback (most recent call last)",
      "\u001b[1;32m<ipython-input-175-12adcad51ad8>\u001b[0m in \u001b[0;36m<module>\u001b[1;34m\u001b[0m\n\u001b[1;32m----> 1\u001b[1;33m \u001b[1;32mfrom\u001b[0m \u001b[0mutil\u001b[0m \u001b[1;32mimport\u001b[0m \u001b[0mplot_confusion_matrix\u001b[0m\u001b[1;33m\u001b[0m\u001b[1;33m\u001b[0m\u001b[0m\n\u001b[0m\u001b[0;32m      2\u001b[0m \u001b[0mplot_confusion_matrix\u001b[0m\u001b[1;33m(\u001b[0m\u001b[0mcm\u001b[0m\u001b[1;33m,\u001b[0m \u001b[0mlabels\u001b[0m\u001b[1;33m,\u001b[0m \u001b[0mtitle\u001b[0m\u001b[1;33m=\u001b[0m\u001b[1;34m'Train confusion matrix'\u001b[0m\u001b[1;33m)\u001b[0m\u001b[1;33m\u001b[0m\u001b[1;33m\u001b[0m\u001b[0m\n\u001b[0;32m      3\u001b[0m \u001b[0mplot_confusion_matrix\u001b[0m\u001b[1;33m(\u001b[0m\u001b[0mvalid_cm\u001b[0m\u001b[1;33m,\u001b[0m \u001b[0mlabels\u001b[0m\u001b[1;33m,\u001b[0m \u001b[0mtitle\u001b[0m\u001b[1;33m=\u001b[0m\u001b[1;34m'Validation confusion matrix'\u001b[0m\u001b[1;33m)\u001b[0m\u001b[1;33m\u001b[0m\u001b[1;33m\u001b[0m\u001b[0m\n",
      "\u001b[1;31mModuleNotFoundError\u001b[0m: No module named 'util'"
     ]
    }
   ],
   "source": [
    "from util import plot_confusion_matrix\n",
    "plot_confusion_matrix(cm, labels, title='Train confusion matrix')\n",
    "plot_confusion_matrix(valid_cm, labels, title='Validation confusion matrix')"
   ]
  },
  {
   "cell_type": "code",
   "execution_count": null,
   "metadata": {},
   "outputs": [],
   "source": []
  }
 ],
 "metadata": {
  "kernelspec": {
   "display_name": "Python 3",
   "language": "python",
   "name": "python3"
  },
  "language_info": {
   "codemirror_mode": {
    "name": "ipython",
    "version": 3
   },
   "file_extension": ".py",
   "mimetype": "text/x-python",
   "name": "python",
   "nbconvert_exporter": "python",
   "pygments_lexer": "ipython3",
   "version": "3.8.5"
  }
 },
 "nbformat": 4,
 "nbformat_minor": 4
}
